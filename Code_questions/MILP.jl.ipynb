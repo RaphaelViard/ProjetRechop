{
 "cells": [
  {
   "cell_type": "code",
   "execution_count": 3,
   "metadata": {},
   "outputs": [
    {
     "name": "stderr",
     "output_type": "stream",
     "text": [
      "\u001b[32m\u001b[1m   Resolving\u001b[22m\u001b[39m package versions..."
     ]
    },
    {
     "name": "stderr",
     "output_type": "stream",
     "text": [
      "\n",
      "\u001b[32m\u001b[1m  No Changes\u001b[22m\u001b[39m to `C:\\Users\\cooki\\OneDrive\\Documents\\Ponts\\2A\\Rechop\\Code\\Project.toml`\n",
      "\u001b[32m\u001b[1m  No Changes\u001b[22m\u001b[39m to `C:\\Users\\cooki\\OneDrive\\Documents\\Ponts\\2A\\Rechop\\Code\\Manifest.toml`\n"
     ]
    },
    {
     "name": "stderr",
     "output_type": "stream",
     "text": [
      "\u001b[32m\u001b[1m   Resolving\u001b[22m\u001b[39m package versions...\n"
     ]
    },
    {
     "name": "stderr",
     "output_type": "stream",
     "text": [
      "\u001b[32m\u001b[1m  No Changes\u001b[22m\u001b[39m to `C:\\Users\\cooki\\OneDrive\\Documents\\Ponts\\2A\\Rechop\\Code\\Project.toml`\n",
      "\u001b[32m\u001b[1m  No Changes\u001b[22m\u001b[39m to `C:\\Users\\cooki\\OneDrive\\Documents\\Ponts\\2A\\Rechop\\Code\\Manifest.toml`\n"
     ]
    }
   ],
   "source": [
    "using Pkg\n",
    "Pkg.add(\"JuMP\")\n",
    "Pkg.add(\"HiGHS\")\n"
   ]
  },
  {
   "cell_type": "code",
   "execution_count": 25,
   "metadata": {},
   "outputs": [],
   "source": [
    "using JuMP\n",
    "using HiGHS"
   ]
  },
  {
   "cell_type": "code",
   "execution_count": 49,
   "metadata": {},
   "outputs": [
    {
     "data": {
      "text/plain": [
       "contrainteQ3! (generic function with 1 method)"
      ]
     },
     "metadata": {},
     "output_type": "display_data"
    }
   ],
   "source": [
    "function variables_binaires!(model, tableau)\n",
    "    for i in eachindex(tableau)\n",
    "        @variable(model, tableau[i], Bin)\n",
    "    end\n",
    "end\n",
    "\n",
    "function contrainteQ1!(model,mu,alpha,beta,M) # Quand on met la contrainte sur mu, alpha, beta existent deja, donc pas besoin de les def, @variable(model,mu)\n",
    "    @constraint(model, mu >= 0)\n",
    "    @constraint(model, mu <= M * alpha)\n",
    "    @constraint(model, mu <= beta)\n",
    "    @constraint(model, mu >= beta - (1 - alpha) * M)\n",
    "end\n",
    "\n",
    "function contrainteQ2!(model,mu,beta,M,y) #Attention, dire avant que y est binaire avec @variable(model, y, Bin) @variable(model,mu)\n",
    "    @constraint(model, -beta <= M * y)\n",
    "    @constraint(model, beta <= M * (1 - y))\n",
    "    @constraint(model, mu >= 0)\n",
    "    @constraint(model, mu >= beta)\n",
    "    @constraint(model, mu <= M * (1 - y))\n",
    "    @constraint(model, mu <= beta + M * y)   \n",
    "end\n",
    "\n",
    "function contrainteQ3!(model, mu, alpha, beta,M,x,y) # @variable(model, y, Bin)  @variable(model, x) @variable(model, mu)\n",
    "    contrainteQ2!(model,x,beta-alpha,2*M,y)\n",
    "    @constraint(model, mu == beta - x)\n",
    "end\n",
    "\n",
    "\n",
    "function contrainteQ4!(model,x,y,z,A,B,y) #déclarer @variable(model,y) \n",
    "    for i in 1:size(A, 1)\n",
    "        @constraint(model, sum(A[i, j] * [x, y, z][j] for j in 1:3) <= B[i])\n",
    "        \n",
    "end"
   ]
  },
  {
   "cell_type": "code",
   "execution_count": 53,
   "metadata": {},
   "outputs": [
    {
     "name": "stdout",
     "output_type": "stream",
     "text": [
      "Running HiGHS 1.6.0: Copyright (c) 2023 HiGHS under MIT licence terms\n",
      "Presolving model\n",
      "0 rows, 0 cols, 0 nonzeros\n",
      "0 rows, 0 cols, 0 nonzeros\n",
      "Presolve: Optimal\n",
      "\n",
      "Solving report\n",
      "  Status            Optimal\n",
      "  Primal bound      8\n",
      "  Dual bound        8\n",
      "  Gap               0% (tolerance: 0.01%)\n",
      "  Solution status   feasible\n",
      "                    8 (objective)\n",
      "                    0 (bound viol.)\n",
      "                    0 (int. viol.)\n",
      "                    0 (row viol.)\n",
      "  Timing            0.00 (total)\n",
      "                    0.00 (presolve)\n",
      "                    0.00 (postsolve)\n",
      "  Nodes             0\n",
      "  LP iterations     0 (total)\n",
      "                    0 (strong br.)\n",
      "                    0 (separation)\n",
      "                    0 (heuristics)\n"
     ]
    }
   ],
   "source": [
    "M=10\n",
    "alpha = 8\n",
    "beta = 9\n",
    "modeltest =  Model(HiGHS.Optimizer)\n",
    "@variable(modeltest,y,Bin)\n",
    "@variable(modeltest, x) \n",
    "@variable(modeltest,mu)\n",
    "contrainteQ3!(modeltest,mu,alpha,beta,M,x,y)\n",
    "@objective(modeltest,Min,mu)\n",
    "optimize!(modeltest)"
   ]
  },
  {
   "cell_type": "code",
   "execution_count": null,
   "metadata": {},
   "outputs": [],
   "source": []
  }
 ],
 "metadata": {
  "kernelspec": {
   "display_name": "Julia 1.10.0",
   "language": "julia",
   "name": "julia-1.10"
  },
  "language_info": {
   "file_extension": ".jl",
   "mimetype": "application/julia",
   "name": "julia",
   "version": "1.10.0"
  }
 },
 "nbformat": 4,
 "nbformat_minor": 2
}
