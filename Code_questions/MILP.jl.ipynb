{
 "cells": [
  {
   "cell_type": "code",
   "execution_count": 91,
   "metadata": {},
   "outputs": [
    {
     "name": "stderr",
     "output_type": "stream",
     "text": [
      "\u001b[32m\u001b[1m   Resolving\u001b[22m\u001b[39m package versions..."
     ]
    },
    {
     "name": "stderr",
     "output_type": "stream",
     "text": [
      "\n",
      "\u001b[32m\u001b[1m  No Changes\u001b[22m\u001b[39m to `C:\\Users\\cooki\\OneDrive\\Documents\\Ponts\\2A\\Rechop\\Code\\Project.toml`\n",
      "\u001b[32m\u001b[1m  No Changes\u001b[22m\u001b[39m to `C:\\Users\\cooki\\OneDrive\\Documents\\Ponts\\2A\\Rechop\\Code\\Manifest.toml`"
     ]
    },
    {
     "name": "stderr",
     "output_type": "stream",
     "text": [
      "\n"
     ]
    },
    {
     "name": "stderr",
     "output_type": "stream",
     "text": [
      "\u001b[32m\u001b[1m   Resolving\u001b[22m\u001b[39m package versions..."
     ]
    },
    {
     "name": "stderr",
     "output_type": "stream",
     "text": [
      "\n",
      "\u001b[32m\u001b[1m  No Changes\u001b[22m\u001b[39m to `C:\\Users\\cooki\\OneDrive\\Documents\\Ponts\\2A\\Rechop\\Code\\Project.toml`\n",
      "\u001b[32m\u001b[1m  No Changes\u001b[22m\u001b[39m to `C:\\Users\\cooki\\OneDrive\\Documents\\Ponts\\2A\\Rechop\\Code\\Manifest.toml`"
     ]
    },
    {
     "name": "stderr",
     "output_type": "stream",
     "text": [
      "\n"
     ]
    }
   ],
   "source": [
    "using Pkg\n",
    "Pkg.add(\"JuMP\")\n",
    "Pkg.add(\"HiGHS\")\n"
   ]
  },
  {
   "cell_type": "code",
   "execution_count": 92,
   "metadata": {},
   "outputs": [],
   "source": [
    "using JuMP\n",
    "using HiGHS"
   ]
  },
  {
   "cell_type": "code",
   "execution_count": 123,
   "metadata": {},
   "outputs": [
    {
     "data": {
      "text/plain": [
       "creesol (generic function with 1 method)"
      ]
     },
     "metadata": {},
     "output_type": "display_data"
    }
   ],
   "source": [
    "import .KIRO2023\n",
    "\n",
    "\n",
    "chemin_tiny = \"instances/KIRO-tiny.json\"\n",
    "#chemin_small = \"instances/KIRO-small.json\"\n",
    "#chemin_medium = \"instances/KIRO-medium.json\"\n",
    "#chemin_large = \"instances/KIRO-large.json\"\n",
    "#chemin_huge = \"instances/KIRO-huge.json\"\n",
    "\n",
    "current_instance = KIRO2023.read_instance(chemin_tiny)\n",
    "\n",
    "nb_WT = length(current_instance.wind_turbines) #Nombre de wind_turbine dans notre instance : card(V^s)=card(E0)\n",
    "nb_SS = length(current_instance.substation_locations) #Nombre de substation dans notre instance Card(V^t)\n",
    "CardVS=nb_SS\n",
    "CardE0=CardVS\n",
    "CardVT=nb_WT\n",
    "CardS = length(current_instance.substation_types) #Card(S)\n",
    "CardE0=nb_WT\n",
    "CardQ0=length(current_instance.land_substation_cable_types)\n",
    "CardES= CardVS*(CardVS-1)\n",
    "CardQS=length(current_instance.substation_substation_cable_types)\n",
    "CardET=CardVT*CardVS\n",
    "OMEGA = length(current_instance.wind_scenarios)\n",
    "#x : matrice taille VS x S, y0 : E0 x Q0, ys : ES x QS, z : VT x VS\n",
    "#x[i, j] = ind(on construit type j sur emplacement i) (SS)\n",
    "#y0[i,j] = ind(on construit type j sur route i) taille E0 x Q0 et ys[i,j,k] on construit type k entre  SS i et j (=ys[j,i,k]) taille VS x VS x QS\n",
    "#z[i,j] = ind(turbine i reliée a SS j) taille WT * SS\n",
    "\n",
    "#turb_links = zeros(Int,nb_WT) Les trois tableaux suivants sont ceux qu'on va mettre dans notre type \"solution\" pour créer le json -> Z\n",
    "#st_cabl = zeros(Int,nb_SS) partie E_0 de y\n",
    "#sub = Vector{KIRO2023.SubStation}() Les substations qu'on va construire-> x et partie E_s de y\n",
    "\n",
    "function creesol(x,y0,ys,z)\n",
    " turb_links = zeros(Int,nb_WT)\n",
    "    st_cable = zeros(Int,nb_SS)\n",
    "    sub = Vector{KIRO2023.SubStation}()\n",
    "\n",
    "    for i in 1:size(x, 1)  # Boucle sur les VS\n",
    "        for j in 1:size(x, 2)  # Boucle pour les S\n",
    "            if x[i,j]==1\n",
    "                for k in 1:CardQ0\n",
    "                    if y0[i,k] == 1\n",
    "                        push!(sub, KIRO2023.SubStation(i,current_instance.substation_types[j],current_instance.land_cable_type[k]))\n",
    "                    end\n",
    "\n",
    "                end\n",
    "            end\n",
    "        end\n",
    "    end\n",
    "    for i in 1:size(ys,1)\n",
    "        for j in 1:size(ys,2)\n",
    "            for k in 1:size(ys,3)\n",
    "                if ys[i,j,k]==1\n",
    "                    st_cable[i, j] = k\n",
    "                end\n",
    "            end\n",
    "        end\n",
    "    end\n",
    "    for i in 1:size(z,1)\n",
    "        for j in 1:size(z,2)\n",
    "            if z[i,j]==1\n",
    "                turb_links[i]=j\n",
    "            end\n",
    "        end\n",
    "    end\n",
    "    return Solution(turb_links,st_cable,sub)\n",
    "end\n",
    "\n"
   ]
  },
  {
   "cell_type": "code",
   "execution_count": 223,
   "metadata": {},
   "outputs": [
    {
     "data": {
      "text/plain": [
       "contrainteQ4! (generic function with 1 method)"
      ]
     },
     "metadata": {},
     "output_type": "display_data"
    }
   ],
   "source": [
    "function variables_binaires!(model, tableau)\n",
    "    for i in eachindex(tableau)\n",
    "        @variable(model, tableau[i], Bin)\n",
    "    end\n",
    "end\n",
    "\n",
    "function contrainteQ1!(model,mu,alpha,beta,M) # Quand on met la contrainte sur mu, alpha, beta existent deja, donc pas besoin de les def, @variable(model,mu)\n",
    "    @constraint(model, mu >= 0)\n",
    "    @constraint(model, mu <= M * alpha)\n",
    "    @constraint(model, mu <= beta)\n",
    "    @constraint(model, mu >= beta - (1 - alpha) * M)\n",
    "end\n",
    "\n",
    "function contrainteQ2!(model,mu,beta,M,y) #Attention, dire avant que y est binaire avec @variable(model, y, Bin) @variable(model,mu)\n",
    "    @constraint(model, -beta <= M * y)\n",
    "    @constraint(model, beta <= M * (1 - y))\n",
    "    @constraint(model, mu >= 0)\n",
    "    @constraint(model, mu >= beta)\n",
    "    @constraint(model, mu <= M * (1 - y))\n",
    "    @constraint(model, mu <= beta + M * y)   \n",
    "end\n",
    "\n",
    "function contrainteQ3!(model, mu, alpha, beta,M,x,y) # @variable(model, y, Bin)  @variable(model, x) @variable(model, mu)\n",
    "    contrainteQ2!(model,x,beta-alpha,2*M,y)\n",
    "    @constraint(model, mu == beta - x)\n",
    "end\n",
    "\n",
    "\n",
    "function contrainteQ4!(model,alpha,beta,gamma,A,B,y) #déclarer @variable(model,y) et pareil avec alpha, beta, gamma : les 4 doivent exister en tant que variable avant\n",
    "    for i in 1:size(A, 1)\n",
    "        @constraint(model, sum(A[i, j] * [x, y, z][j] for j in 1:3) <= B[i])\n",
    "        @constraint(model, y >= alpha+gamma)\n",
    "        @constraint(model, y >= beta+gamma)\n",
    "    end\n",
    "end"
   ]
  },
  {
   "cell_type": "code",
   "execution_count": 235,
   "metadata": {},
   "outputs": [
    {
     "data": {
      "text/plain": [
       "\"M=10\\nalpha = 8\\nbeta = 9\\nmodeltest =  Model(HiGHS.Optimizer)\\n@variable(modeltest,y,Bin)\\n@variable(modeltest, x) \\n@variable(modeltest,mu)\\ncontrainteQ3!(modeltest,mu,alpha,beta,M,x,y)\\n@objective(modeltest,Min,mu)\\noptimize!(modeltest)\""
      ]
     },
     "metadata": {},
     "output_type": "display_data"
    }
   ],
   "source": [
    "\"\"\"M=10\n",
    "alpha = 8\n",
    "beta = 9\n",
    "modeltest =  Model(HiGHS.Optimizer)\n",
    "@variable(modeltest,y,Bin)\n",
    "@variable(modeltest, x) \n",
    "@variable(modeltest,mu)\n",
    "contrainteQ3!(modeltest,mu,alpha,beta,M,x,y)\n",
    "@objective(modeltest,Min,mu)\n",
    "optimize!(modeltest)\"\"\""
   ]
  },
  {
   "cell_type": "code",
   "execution_count": 225,
   "metadata": {},
   "outputs": [],
   "source": []
  },
  {
   "cell_type": "code",
   "execution_count": 347,
   "metadata": {},
   "outputs": [
    {
     "data": {
      "text/plain": [
       "3×2 Matrix{VariableRef}:\n",
       " z[1,1]  z[1,2]\n",
       " z[2,1]  z[2,2]\n",
       " z[3,1]  z[3,2]"
      ]
     },
     "metadata": {},
     "output_type": "display_data"
    }
   ],
   "source": [
    "modelQ1 = Model(HiGHS.Optimizer)\n",
    "@variable(modelQ1, x[1:CardVS, 1:CardS], Bin)\n",
    "@variable(modelQ1, y0[1:CardE0, 1:CardQ0], Bin)\n",
    "@variable(modelQ1, ys[1:CardVS, 1:CardVS, 1:CardQS], Bin)\n",
    "@variable(modelQ1,z[1:CardVT ,1:CardVS], Bin)"
   ]
  },
  {
   "cell_type": "code",
   "execution_count": 348,
   "metadata": {},
   "outputs": [
    {
     "data": {
      "text/plain": [
       "2×2 Matrix{Any}:\n",
       " 0                                 500 ys[1,2,1] + 1000 ys[1,2,2]\n",
       "  500 ys[2,1,1] + 1000 ys[2,1,2]  0"
      ]
     },
     "metadata": {},
     "output_type": "display_data"
    }
   ],
   "source": [
    "#Je rajoute ttes les variables binaires (ou non) dont j'ai besoin\n",
    "MQ = 999999\n",
    "rx = [sum(current_instance.substation_types[i].rating * x[i, k] for k in 1:CardS) for i in 1:CardVS]\n",
    "ryq0 = [sum(current_instance.land_substation_cable_types[i].rating * y0[i,k] for k in 1:CardQ0) for i in 1:CardVS]\n",
    "somze = [ sum(z[k,i] for k in 1:CardVT) for i in 1:CardVS]\n",
    "ryqs = [sum( j!=i ? sum( current_instance.substation_substation_cable_types[k].rating * ys[i,j,k]  for k in 1:CardQS) : 0 for j in 1:CardVS) for i in 1:CardVS] #Somme des rqyeq pour un v in Vs (yvvq=0)\n",
    "ryqscf = [ i != j ?  sum( current_instance.substation_substation_cable_types[k].rating * ys[i,j,k] for k in 1:CardQS) : 0 for i in 1:CardVS, j in 1:CardVS]\n",
    "\n"
   ]
  },
  {
   "cell_type": "code",
   "execution_count": 349,
   "metadata": {},
   "outputs": [],
   "source": [
    "#On construit tous les min de rsxvs/rqyeq : il y en a CardVS : pour chaque CardVS, il faut créer 3 variables. le mu, le x, et le yBin\n",
    "@variable(modelQ1, MinCnx[1:CardVS])\n",
    "@variable(modelQ1, MinCny[1:CardVS], Bin)\n",
    "@variable(modelQ1, MinCn[1:CardVS])\n",
    "for i in 1:CardVS\n",
    "    contrainteQ3!(modelQ1,MinCn[i],-rx[i],-ryq0[i],MQ,MinCnx[i],MinCny[i])#model, mu, alpha, beta,M,x,y\n",
    "end\n",
    "#Attention, ici, MinCN est -min, il faudra donc mettre un plus dans la déf de Cn"
   ]
  },
  {
   "cell_type": "code",
   "execution_count": 350,
   "metadata": {},
   "outputs": [],
   "source": [
    "#On crée les parties positives de Cn\n",
    "@variable(modelQ1,PosCny[1:CardVS,1:OMEGA],Bin) #On a autant de variable binaire pour les partie positive que le nmbre de scenarios * VS\n",
    "@variable(modelQ1,PosCn[1:CardVS, 1:OMEGA])\n",
    "for i in 1:CardVS\n",
    "    for j in 1:OMEGA #model,mu,beta,M,y\n",
    "        contrainteQ2!(modelQ1,PosCn[i,j],current_instance.wind_scenarios[j].power_generation*somze[i]+MinCn[i],MQ,PosCny[i,j]) ##Le + est voulu\n",
    "    end\n",
    "end\n",
    "@variable(modelQ1,Cn[1:OMEGA])\n",
    "for j in 1:OMEGA\n",
    "    @constraint(modelQ1,Cn[j] == sum( PosCn[i,j] for i in 1:CardVS))\n",
    "end"
   ]
  },
  {
   "cell_type": "code",
   "execution_count": 351,
   "metadata": {},
   "outputs": [],
   "source": [
    "#Cf sera un Cf[1:CardVS,1:OMEGA]\n",
    "@variable(modelQ1, P1Cf[1:CardVS,1:OMEGA])\n",
    "@variable(modelQ1, P1Cfy[1:CardVS,1:OMEGA])\n",
    "for i in 1:CardVS\n",
    "    for j in 1:OMEGA\n",
    "        contrainteQ2!(modelQ1,P1Cf[i,j],current_instance.wind_scenarios[j].power_generation*somze[i]-ryqs[i],MQ,P1Cfy[i,j])#model,mu,beta,M,y\n",
    "    end\n",
    "end\n",
    "\n"
   ]
  },
  {
   "cell_type": "code",
   "execution_count": 352,
   "metadata": {},
   "outputs": [],
   "source": [
    "#On crée les nouveaux tableaux dont on a besoin pour P2 de Cf :\n",
    "@variable(modelQ1,Min1Cfy[1:CardVS,1:CardVS,1:OMEGA],Bin)\n",
    "@variable(modelQ1,Min1Cfx[1:CardVS,1:CardVS,1:OMEGA])\n",
    "@variable(modelQ1,Min1Cf[1:CardVS,1:CardVS,1:OMEGA])\n",
    "for i in 1:CardVS\n",
    "    for j in 1:CardVS\n",
    "        for k in 1:OMEGA\n",
    "            contrainteQ3!(modelQ1,Min1Cf[i,j,k],-ryqscf[i,j],-current_instance.wind_scenarios[k].power_generation * somze[i], MQ, Min1Cfx[i,j,k], Min1Cfy[i,j,k])#model, mu, alpha, beta,M,x,y\n",
    "        end\n",
    "    end\n",
    "end #Cette variable est -min : il faudra mettre un - devant\n",
    "\n"
   ]
  },
  {
   "cell_type": "code",
   "execution_count": 353,
   "metadata": {},
   "outputs": [],
   "source": [
    "@variable(modelQ1, PosCf[1:CardVS,1:CardVS,1:OMEGA])\n",
    "@variable(modelQ1,PosCfy[1:CardVS,1:CardVS,1:OMEGA],Bin)\n",
    "for i in 1:CardVS\n",
    "    for j in 1:CardVS\n",
    "        for k in 1:OMEGA\n",
    "            contrainteQ2!(modelQ1,PosCf[i,j,k],current_instance.wind_scenarios[k].power_generation*somze[j]-Min1Cf[i,j,k]+MinCn[j],MQ,PosCfy[i,j,k])#model,mu,beta,M,y\n",
    "        end\n",
    "    end\n",
    "end\n",
    "@variable(modelQ1,Cf[1:CardVS,1:OMEGA])\n",
    "for i in 1:CardVS\n",
    "    for k in 1:OMEGA\n",
    "        @constraint(modelQ1,Cf[i,k] ==  P1Cf[i,k] + sum( i!=j ? PosCf[i,j,k] : 0 for j in 1:CardVS))\n",
    "    end\n",
    "end\n"
   ]
  },
  {
   "cell_type": "markdown",
   "metadata": {},
   "source": [
    "A ce stade, on a Cn (taille1:OMEGA et Cf (taille CardVS x OMEGA))"
   ]
  },
  {
   "cell_type": "code",
   "execution_count": 354,
   "metadata": {},
   "outputs": [],
   "source": [
    "#On créée le vecteur pf qui est une variable\n",
    "@variable(modelQ1,pf[1:CardVS])\n",
    "for i in 1:CardVS\n",
    "    @constraint(modelQ1,pf[i] == sum( current_instance.substation_types[j].probability_of_failure * x[i,j] for j in 1:CardS) + sum(current_instance.land_substation_cable_types[j].probability_of_failure * y0[i,j] for j in 1:CardQ0))\n",
    "end"
   ]
  },
  {
   "cell_type": "code",
   "execution_count": 355,
   "metadata": {},
   "outputs": [],
   "source": [
    "#On rajoute les contraintes 1, 2, 3 et 4 de l'énoncé\n",
    "for i in 1:CardVS\n",
    "    @constraint(modelQ1, sum(x[i,j] for j in 1:CardS) <= 1)\n",
    "end\n",
    "for i in 1:CardVS\n",
    "    @constraint(modelQ1,sum( y0[i,j] for j in 1:CardQ0) == sum( x[i,j] for j in 1:CardS))\n",
    "end\n",
    "for i in 1:CardVT\n",
    "    @constraint(modelQ1, sum(z[i,j] for j in 1:CardVS) == 1)\n",
    "end\n",
    "for i in 1:CardVS\n",
    "    @constraint(modelQ1, sum( i!=j ? sum( ys[i,j,k] for k in 1:CardQS) : 0 for j in 1:CardVS) <= sum( x[i,j] for j in 1:CardS))\n",
    "end"
   ]
  },
  {
   "cell_type": "code",
   "execution_count": 356,
   "metadata": {},
   "outputs": [
    {
     "data": {
      "text/plain": [
       "50000.0"
      ]
     },
     "metadata": {},
     "output_type": "display_data"
    }
   ],
   "source": [
    "c0 = current_instance.curtailing_cost\n",
    "cp = current_instance.curtailing_penalty\n",
    "cmax = current_instance.maximum_curtailing"
   ]
  },
  {
   "cell_type": "markdown",
   "metadata": {},
   "source": [
    "function distance_to_land(instance::Instance, substation_id)\n",
    "    return distance(instance.land, instance.substation_locations[substation_id])\n",
    "end\n",
    "\n",
    "function distance_inter_station(instance::Instance, v₁, v₂)\n",
    "    return distance(instance.substation_locations[v₁], instance.substation_locations[v₂])\n",
    "end"
   ]
  },
  {
   "cell_type": "code",
   "execution_count": 357,
   "metadata": {},
   "outputs": [
    {
     "data": {
      "text/plain": [
       "14.142135623730951"
      ]
     },
     "metadata": {},
     "output_type": "display_data"
    }
   ],
   "source": [
    "KIRO2023.distance_to_land(current_instance,1)"
   ]
  },
  {
   "cell_type": "code",
   "execution_count": 358,
   "metadata": {},
   "outputs": [
    {
     "data": {
      "text/latex": [
       "$$ -100000 x_{1,1} - 200000 x_{1,2} - 200000 x_{2,2} - 2282.842712474619 y0_{1,1} - 2565.685424949238 y0_{2,1} - 3424.2640687119283 y0_{1,2} - 3848.528137423857 y0_{2,2} - 1141.4213562373095 ys_{2,1,1} - 1141.4213562373095 ys_{1,2,1} - 1712.1320343559642 ys_{2,1,2} - 1712.1320343559642 ys_{1,2,2} + constructioncost = 0 $$"
      ],
      "text/plain": [
       "-100000 x[1,1] - 200000 x[1,2] - 200000 x[2,2] - 2282.842712474619 y0[1,1] - 2565.685424949238 y0[2,1] - 3424.2640687119283 y0[1,2] - 3848.528137423857 y0[2,2] - 1141.4213562373095 ys[2,1,1] - 1141.4213562373095 ys[1,2,1] - 1712.1320343559642 ys[2,1,2] - 1712.1320343559642 ys[1,2,2] + constructioncost == 0"
      ]
     },
     "metadata": {},
     "output_type": "display_data"
    }
   ],
   "source": [
    "@variable(modelQ1,constructioncost)\n",
    "@constraint(modelQ1,constructioncost == sum(sum( current_instance.substation_types[j].cost * x[i,j] for j in i:CardS) for i in 1:CardVS) \n",
    "                                            + sum(sum( y0[i,j]*(current_instance.land_substation_cable_types[j].fixed_cost + current_instance.land_substation_cable_types[j].variable_cost*KIRO2023.distance_to_land(current_instance,i) ) for j in 1:CardQ0) for i in 1:CardVS)\n",
    "                                            + sum(sum( i!=j ? sum( ys[i,j,k]*(current_instance.substation_substation_cable_types[k].fixed_cost + current_instance.substation_substation_cable_types[k].variable_cost*KIRO2023.distance_inter_station(current_instance,i,j)) for k in 1:CardQS) : 0 for j in 1:CardVS) for i in 1:CardVS))"
   ]
  },
  {
   "cell_type": "code",
   "execution_count": 359,
   "metadata": {},
   "outputs": [],
   "source": [
    "@variable(modelQ1,operationnalcost) #il faut créer 2*VS*OMEGA binaires + continues\n",
    "@variable(modelQ1,opcostCfy[1:CardVS,1:OMEGA],Bin)\n",
    "@variable(modelQ1,opcostCf[1:CardVS,1:OMEGA])\n",
    "@variable(modelQ1,opcostCny[1:OMEGA], Bin)\n",
    "@variable(modelQ1,opcostCn[1:OMEGA])\n",
    "\n",
    "for i in 1:CardVS\n",
    "    for j in 1:OMEGA\n",
    "        contrainteQ2!(modelQ1,opcostCf[i,j],Cf[i,j]-cmax,MQ,opcostCfy[i,j])#model,mu,beta,M,y\n",
    "    end\n",
    "end\n",
    "for i in 1:OMEGA\n",
    "    contrainteQ2!(modelQ1,opcostCn[i],Cn[i]-cmax,MQ,opcostCny[i])\n",
    "end\n",
    "@variable(modelQ1, cCf[1:CardVS,1:OMEGA])\n",
    "@variable(modelQ1,cCn[1:OMEGA])\n",
    "for i in 1:CardVS\n",
    "    for j in 1:OMEGA\n",
    "        @constraint(modelQ1, cCf[i,j]==c0*Cf[i,j]+cp*opcostCf[i,j])\n",
    "    end\n",
    "end\n",
    "for i in 1:OMEGA\n",
    "    @constraint(modelQ1,cCn[i]== c0*Cn[i]+cp*opcostCn[i])\n",
    "end\n"
   ]
  },
  {
   "cell_type": "code",
   "execution_count": 361,
   "metadata": {},
   "outputs": [
    {
     "ename": "ErrorException",
     "evalue": "Constraints of type MathOptInterface.ScalarQuadraticFunction{Float64}-in-MathOptInterface.EqualTo{Float64} are not supported by the solver.\n\nIf you expected the solver to support your problem, you may have an error in your formulation. Otherwise, consider using a different solver.\n\nThe list of available solvers, along with the problem types they support, is available at https://jump.dev/JuMP.jl/stable/installation/#Supported-solvers.",
     "output_type": "error",
     "traceback": [
      "Constraints of type MathOptInterface.ScalarQuadraticFunction{Float64}-in-MathOptInterface.EqualTo{Float64} are not supported by the solver.\n",
      "\n",
      "If you expected the solver to support your problem, you may have an error in your formulation. Otherwise, consider using a different solver.\n",
      "\n",
      "The list of available solvers, along with the problem types they support, is available at https://jump.dev/JuMP.jl/stable/installation/#Supported-solvers.\n",
      "\n",
      "Stacktrace:\n",
      " [1] error(s::String)\n",
      "   @ Base .\\error.jl:35\n",
      " [2] _moi_add_constraint(model::MathOptInterface.Utilities.CachingOptimizer{MathOptInterface.Bridges.LazyBridgeOptimizer{HiGHS.Optimizer}, MathOptInterface.Utilities.UniversalFallback{MathOptInterface.Utilities.Model{Float64}}}, f::MathOptInterface.ScalarQuadraticFunction{Float64}, s::MathOptInterface.EqualTo{Float64})\n",
      "   @ JuMP C:\\Users\\cooki\\.julia\\packages\\JuMP\\027Gt\\src\\constraints.jl:686\n",
      " [3] add_constraint(model::Model, con::ScalarConstraint{QuadExpr, MathOptInterface.EqualTo{Float64}}, name::String)\n",
      "   @ JuMP C:\\Users\\cooki\\.julia\\packages\\JuMP\\027Gt\\src\\constraints.jl:713\n",
      " [4] macro expansion\n",
      "   @ C:\\Users\\cooki\\.julia\\packages\\JuMP\\027Gt\\src\\macros\\@constraint.jl:133 [inlined]\n",
      " [5] macro expansion\n",
      "   @ C:\\Users\\cooki\\.julia\\packages\\JuMP\\027Gt\\src\\macros.jl:375 [inlined]\n",
      " [6] top-level scope\n",
      "   @ c:\\Users\\cooki\\OneDrive\\Documents\\Ponts\\2A\\Rechop\\Code\\Code_questions\\MILP.jl.ipynb:1"
     ]
    }
   ],
   "source": [
    "@constraint(modelQ1, operationnalcost == sum( current_instance.wind_scenarios[j].probability*(sum( pf[i]*cCf[i,j] for i in 1:CardVS) + (1-sum( pf[i] for i in 1:CardVS))*cCn[j]) for j in 1:OMEGA))"
   ]
  },
  {
   "cell_type": "code",
   "execution_count": null,
   "metadata": {},
   "outputs": [],
   "source": []
  }
 ],
 "metadata": {
  "kernelspec": {
   "display_name": "Julia 1.10.0",
   "language": "julia",
   "name": "julia-1.10"
  },
  "language_info": {
   "file_extension": ".jl",
   "mimetype": "application/julia",
   "name": "julia",
   "version": "1.10.0"
  }
 },
 "nbformat": 4,
 "nbformat_minor": 2
}
