{
 "cells": [
  {
   "cell_type": "code",
   "execution_count": 56,
   "metadata": {},
   "outputs": [
    {
     "name": "stderr",
     "output_type": "stream",
     "text": [
      "\u001b[32m\u001b[1m   Resolving\u001b[22m\u001b[39m package versions...\n",
      "\u001b[32m\u001b[1m  No Changes\u001b[22m\u001b[39m to `C:\\Users\\cooki\\OneDrive\\Documents\\Ponts\\2A\\Rechop\\Code\\Project.toml`\n",
      "\u001b[32m\u001b[1m  No Changes\u001b[22m\u001b[39m to `C:\\Users\\cooki\\OneDrive\\Documents\\Ponts\\2A\\Rechop\\Code\\Manifest.toml`\n"
     ]
    },
    {
     "name": "stderr",
     "output_type": "stream",
     "text": [
      "\u001b[32m\u001b[1m   Resolving\u001b[22m\u001b[39m package versions...\n"
     ]
    },
    {
     "name": "stderr",
     "output_type": "stream",
     "text": [
      "\u001b[32m\u001b[1m  No Changes\u001b[22m\u001b[39m to `C:\\Users\\cooki\\OneDrive\\Documents\\Ponts\\2A\\Rechop\\Code\\Project.toml`\n",
      "\u001b[32m\u001b[1m  No Changes\u001b[22m\u001b[39m to `C:\\Users\\cooki\\OneDrive\\Documents\\Ponts\\2A\\Rechop\\Code\\Manifest.toml`\n"
     ]
    }
   ],
   "source": [
    "using Pkg\n",
    "Pkg.add(\"JuMP\")\n",
    "Pkg.add(\"HiGHS\")\n"
   ]
  },
  {
   "cell_type": "code",
   "execution_count": 57,
   "metadata": {},
   "outputs": [],
   "source": [
    "using JuMP\n",
    "using HiGHS"
   ]
  },
  {
   "cell_type": "code",
   "execution_count": 79,
   "metadata": {},
   "outputs": [
    {
     "data": {
      "text/plain": [
       "KIRO2023.SubStation[]"
      ]
     },
     "metadata": {},
     "output_type": "display_data"
    }
   ],
   "source": [
    "import .KIRO2023\n",
    "\n",
    "\n",
    "chemin_tiny = \"instances/KIRO-tiny.json\"\n",
    "#chemin_small = \"instances/KIRO-small.json\"\n",
    "#chemin_medium = \"instances/KIRO-medium.json\"\n",
    "#chemin_large = \"instances/KIRO-large.json\"\n",
    "#chemin_huge = \"instances/KIRO-huge.json\"\n",
    "\n",
    "current_instance = KIRO2023.read_instance(chemin_tiny)\n",
    "\n",
    "nb_WT = length(current_instance.wind_turbines) #Nombre de wind_turbine dans notre instance : card(V^s)=card(E0)\n",
    "nb_SS = length(current_instance.substation_locations) #Nombre de substation dans notre instance Card(V^t)\n",
    "CardVS=nb_WT\n",
    "CardE0=CardVS\n",
    "CardVT=nb_SS\n",
    "CardS = length(current_instance.substation_types) #Card(S)\n",
    "CardE0=nb_WT\n",
    "CardQ0=length(current_instance.land_substation_cable_types)\n",
    "CardES= CardVS*(CardVS-1)\n",
    "CardQS=length(current_instance.substation_substation_cable_types)\n",
    "CardET=CardVT*CardVS\n",
    "\n",
    "turb_links = zeros(Int,nb_WT) #Les trois tableaux suivants sont ceux qu'on va mettre dans notre type \"solution\" pour créer le json -> Z\n",
    "st_cabl = zeros(Int,nb_SS) #partie E_0 de y\n",
    "sub = Vector{KIRO2023.SubStation}() #Les substations qu'on va construire-> x et partie E_s de y\n",
    "\n",
    "function donnevecteurs(x,y0,ys,z):\n",
    "    turb_links = zeros(Int,nb_WT)\n",
    "    st_cabl = zeros(Int,nb_SS)\n",
    "    sub = Vector{KIRO2023.SubStation}()\n",
    "    for i in 1:size(x, 1)  # Boucle pour les lignes\n",
    "        for j in 1:size(x, 2)  # Boucle pour les colonnes\n",
    "            println(\"Élément à la position ($i, $j) : \", x[i, j])\n",
    "        end\n",
    "\n"
   ]
  },
  {
   "cell_type": "code",
   "execution_count": 49,
   "metadata": {},
   "outputs": [
    {
     "data": {
      "text/plain": [
       "contrainteQ3! (generic function with 1 method)"
      ]
     },
     "metadata": {},
     "output_type": "display_data"
    }
   ],
   "source": [
    "function variables_binaires!(model, tableau)\n",
    "    for i in eachindex(tableau)\n",
    "        @variable(model, tableau[i], Bin)\n",
    "    end\n",
    "end\n",
    "\n",
    "function contrainteQ1!(model,mu,alpha,beta,M) # Quand on met la contrainte sur mu, alpha, beta existent deja, donc pas besoin de les def, @variable(model,mu)\n",
    "    @constraint(model, mu >= 0)\n",
    "    @constraint(model, mu <= M * alpha)\n",
    "    @constraint(model, mu <= beta)\n",
    "    @constraint(model, mu >= beta - (1 - alpha) * M)\n",
    "end\n",
    "\n",
    "function contrainteQ2!(model,mu,beta,M,y) #Attention, dire avant que y est binaire avec @variable(model, y, Bin) @variable(model,mu)\n",
    "    @constraint(model, -beta <= M * y)\n",
    "    @constraint(model, beta <= M * (1 - y))\n",
    "    @constraint(model, mu >= 0)\n",
    "    @constraint(model, mu >= beta)\n",
    "    @constraint(model, mu <= M * (1 - y))\n",
    "    @constraint(model, mu <= beta + M * y)   \n",
    "end\n",
    "\n",
    "function contrainteQ3!(model, mu, alpha, beta,M,x,y) # @variable(model, y, Bin)  @variable(model, x) @variable(model, mu)\n",
    "    contrainteQ2!(model,x,beta-alpha,2*M,y)\n",
    "    @constraint(model, mu == beta - x)\n",
    "end\n",
    "\n",
    "\n",
    "function contrainteQ4!(model,alpha,beta,gamma,A,B,y) #déclarer @variable(model,y) et pareil avec alpha, beta, gamma : les 4 doivent exister en tant que variable avant\n",
    "    for i in 1:size(A, 1)\n",
    "        @constraint(model, sum(A[i, j] * [x, y, z][j] for j in 1:3) <= B[i])\n",
    "        @constraint(model, y >= alpha+gamma)\n",
    "        @constraint(model, y >= beta+gamma)\n",
    "end"
   ]
  },
  {
   "cell_type": "code",
   "execution_count": 55,
   "metadata": {},
   "outputs": [
    {
     "data": {
      "text/plain": [
       "\"M=10\\nalpha = 8\\nbeta = 9\\nmodeltest =  Model(HiGHS.Optimizer)\\n@variable(modeltest,y,Bin)\\n@variable(modeltest, x) \\n@variable(modeltest,mu)\\ncontrainteQ3!(modeltest,mu,alpha,beta,M,x,y)\\n@objective(modeltest,Min,mu)\\noptimize!(modeltest)\""
      ]
     },
     "metadata": {},
     "output_type": "display_data"
    }
   ],
   "source": [
    "\"\"\"M=10\n",
    "alpha = 8\n",
    "beta = 9\n",
    "modeltest =  Model(HiGHS.Optimizer)\n",
    "@variable(modeltest,y,Bin)\n",
    "@variable(modeltest, x) \n",
    "@variable(modeltest,mu)\n",
    "contrainteQ3!(modeltest,mu,alpha,beta,M,x,y)\n",
    "@objective(modeltest,Min,mu)\n",
    "optimize!(modeltest)\"\"\""
   ]
  },
  {
   "cell_type": "code",
   "execution_count": null,
   "metadata": {},
   "outputs": [],
   "source": []
  }
 ],
 "metadata": {
  "kernelspec": {
   "display_name": "Julia 1.10.0",
   "language": "julia",
   "name": "julia-1.10"
  },
  "language_info": {
   "file_extension": ".jl",
   "mimetype": "application/julia",
   "name": "julia",
   "version": "1.10.0"
  }
 },
 "nbformat": 4,
 "nbformat_minor": 2
}
