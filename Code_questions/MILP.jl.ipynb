{
 "cells": [
  {
   "cell_type": "code",
   "execution_count": 3,
   "metadata": {},
   "outputs": [
    {
     "name": "stdout",
     "output_type": "stream",
     "text": [
      "Le produit des matrices est :\n",
      "[30 24 18; 84 69 54; 138 114 90]\n",
      "La somme des coefficients du produit est : 621\n"
     ]
    }
   ],
   "source": [
    "# Définition des matrices 3x3\n",
    "matrice1 = [1 2 3;\n",
    "            4 5 6;\n",
    "            7 8 9]\n",
    "\n",
    "matrice2 = [9 8 7;\n",
    "            6 5 4;\n",
    "            3 2 1]\n",
    "\n",
    "# Multiplication des matrices\n",
    "produit = matrice1 * matrice2\n",
    "\n",
    "# Calcul de la somme des coefficients du produit\n",
    "somme = sum(produit)\n",
    "\n",
    "# Affichage du résultat\n",
    "println(\"Le produit des matrices est :\")\n",
    "println(produit)\n",
    "println(\"La somme des coefficients du produit est : \", somme)\n"
   ]
  },
  {
   "cell_type": "code",
   "execution_count": null,
   "metadata": {},
   "outputs": [],
   "source": []
  }
 ],
 "metadata": {
  "kernelspec": {
   "display_name": "Julia 1.10.0",
   "language": "julia",
   "name": "julia-1.10"
  },
  "language_info": {
   "file_extension": ".jl",
   "mimetype": "application/julia",
   "name": "julia",
   "version": "1.10.0"
  }
 },
 "nbformat": 4,
 "nbformat_minor": 2
}
