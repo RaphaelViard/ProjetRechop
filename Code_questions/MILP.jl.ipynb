{
 "cells": [
  {
   "cell_type": "code",
   "execution_count": 2,
   "metadata": {},
   "outputs": [
    {
     "data": {
      "text/plain": [
       "solve_optimization (generic function with 1 method)"
      ]
     },
     "metadata": {},
     "output_type": "display_data"
    }
   ],
   "source": [
    "function solve_optimization(instance::KIRO2023.Instance)\n",
    "    model = Model(optimizer_with_attributes(GLPK.Optimizer))\n",
    "\n",
    "    # Variables de décision\n",
    "    @variable(model, turbines[1:KIRO2023.nb_turbines(instance)], Bin)  # Variables binaires pour les turbines\n",
    "    @variable(model, cables[1:KIRO2023.nb_station_locations(instance), 1:KIRO2023.nb_station_locations(instance)], Bin)  # Variables binaires pour les câbles inter-stations\n",
    "    @variable(model, substations[1:KIRO2023.nb_station_locations(instance)], Bin)  # Variables binaires pour les sous-stations\n",
    "\n",
    "    # Fonction objectif\n",
    "#    valturb = value.(turbines)\n",
    "#    valcabl=value.(cables)\n",
    "#    valss=value.(substations)\n",
    "#    @constraint(model, turbines .== valturb)\n",
    "#    @constraint(model, cables .== valcabl)\n",
    "#    @constraint(model, substations .== valss)\n",
    "    @objective(model, Min, KIRO2023.cost(KIRO2023.Solution(turbines, cables, substations), instance))\n",
    "\n",
    "    # Contraintes\n",
    "    @constraint(model, KIRO2023.is_feasible(KIRO2023.Solutionval(turbines, cables, substations), instance) == true)\n",
    "\n",
    "    # Résoudre le modèle\n",
    "    optimize!(model)\n",
    "\n",
    "    # Récupérer la solution optimale\n",
    "    optimal_turbines = value.(turbines)\n",
    "    optimal_cables = value.(cables)\n",
    "    optimal_substations = value.(substations)\n",
    "\n",
    "    optimal_solution = KIRO2023.Solution(optimal_turbines, optimal_cables, optimal_substations)\n",
    "\n",
    "    # Afficher la solution optimale\n",
    "    println(\"Optimal Solution: \", optimal_solution)\n",
    "    println(\"Objective Value: \", objective_value(model))\n",
    "end"
   ]
  },
  {
   "cell_type": "code",
   "execution_count": 1,
   "metadata": {},
   "outputs": [
    {
     "data": {
      "text/plain": [
       "2"
      ]
     },
     "metadata": {},
     "output_type": "display_data"
    }
   ],
   "source": [
    "using JuMP\n",
    "using HiGHS\n",
    "using GLPK\n",
    "import KIRO2023\n",
    "import KIRO2023\n",
    "\n",
    "\n",
    "chemin_tiny = \"../instances/KIRO-tiny.json\"\n",
    "chemin_small = \"../instances/KIRO-small.json\"\n",
    "chemin_medium = \"../instances/KIRO-medium.json\"\n",
    "chemin_large = \"../instances/KIRO-large.json\"\n",
    "chemin_huge = \"../instances/KIRO-huge.json\"\n",
    "\n",
    "current_instance = KIRO2023.read_instance(chemin_tiny)\n",
    "\n",
    "nb_WT = length(current_instance.wind_turbines) #Nombre de wind_turbine dans notre instance : card(V^s)=card(E0)\n",
    "nb_SS = length(current_instance.substation_locations) #Nombre de substation dans notre instance Card(V^t)\n",
    "CardVS=nb_SS\n",
    "CardE0=CardVS\n",
    "CardVT=nb_WT\n",
    "CardS = length(current_instance.substation_types) #Card(S)\n",
    "CardE0=nb_WT\n",
    "CardQ0=length(current_instance.land_substation_cable_types)\n",
    "CardES= CardVS*(CardVS-1)\n",
    "CardQS=length(current_instance.substation_substation_cable_types)\n",
    "CardET=CardVT*CardVS\n",
    "OMEGA = length(current_instance.wind_scenarios)\n",
    "#x : matrice taille VS x S, y0 : E0 x Q0, ys : ES x QS, z : VT x VS\n",
    "#x[i, j] = ind(on construit type j sur emplacement i) (SS)\n",
    "#y0[i,j] = ind(on construit type j sur route i) taille E0 x Q0 et ys[i,j,k] on construit type k entre  SS i et j (=ys[j,i,k]) taille VS x VS x QS\n",
    "#z[i,j] = ind(turbine i reliée a SS j) taille WT * SS\n",
    "\n",
    "#turb_links = zeros(Int,nb_WT) Les trois tableaux suivants sont ceux qu'on va mettre dans notre type \"solution\" pour créer le json -> Z\n",
    "#st_cabl = zeros(Int,nb_SS) partie E_0 de y\n",
    "#sub = Vector{KIRO2023.SubStation}() Les substations qu'on va construire-> x et partie E_s de y"
   ]
  },
  {
   "cell_type": "code",
   "execution_count": 114,
   "metadata": {},
   "outputs": [
    {
     "data": {
      "text/plain": [
       "contrainteQ4! (generic function with 1 method)"
      ]
     },
     "metadata": {},
     "output_type": "display_data"
    }
   ],
   "source": [
    "function variables_binaires!(model, tableau)\n",
    "    for i in eachindex(tableau)\n",
    "        @variable(model, tableau[i], Bin)\n",
    "    end\n",
    "end\n",
    "\n",
    "function contrainteQ1!(model,mu,alpha,beta,M) # Quand on met la contrainte sur mu, alpha, beta existent deja, donc pas besoin de les def, @variable(model,mu)\n",
    "    @constraint(model, mu >= 0)\n",
    "    @constraint(model, mu <= M * alpha)\n",
    "    @constraint(model, mu <= beta)\n",
    "    @constraint(model, mu >= beta - (1 - alpha) * M)\n",
    "end\n",
    "\n",
    "function contrainteQ2!(model,mu,beta,M,y) #Attention, dire avant que y est binaire avec @variable(model, y, Bin) @variable(model,mu)\n",
    "    @constraint(model, -beta <= M * y)\n",
    "    @constraint(model, beta <= M * (1 - y))\n",
    "    @constraint(model, mu >= 0)\n",
    "    @constraint(model, mu >= beta)\n",
    "    @constraint(model, mu <= M * (1 - y))\n",
    "    @constraint(model, mu <= beta + M * y)   \n",
    "end\n",
    "\n",
    "function contrainteQ3!(model, mu, alpha, beta,M,x,y) # @variable(model, y, Bin)  @variable(model, x) @variable(model, mu)\n",
    "    contrainteQ2!(model,x,beta-alpha,2*M,y)\n",
    "    @constraint(model, mu == beta - x)\n",
    "end\n",
    "\n",
    "\n",
    "function contrainteQ4!(model,alpha,beta,gamma,A,B,y) #déclarer @variable(model,y) et pareil avec alpha, beta, gamma : les 4 doivent exister en tant que variable avant\n",
    "    for i in 1:size(A, 1)\n",
    "        @constraint(model, sum(A[i, j] * [x, y, z][j] for j in 1:3) <= B[i])\n",
    "        @constraint(model, y >= alpha+gamma)\n",
    "        @constraint(model, y >= beta+gamma)\n",
    "    end\n",
    "end"
   ]
  },
  {
   "cell_type": "code",
   "execution_count": 115,
   "metadata": {},
   "outputs": [
    {
     "data": {
      "text/plain": [
       "75×15 Matrix{VariableRef}:\n",
       " z[1,1]   z[1,2]   z[1,3]   z[1,4]   z[1,5]   …  z[1,13]   z[1,14]   z[1,15]\n",
       " z[2,1]   z[2,2]   z[2,3]   z[2,4]   z[2,5]      z[2,13]   z[2,14]   z[2,15]\n",
       " z[3,1]   z[3,2]   z[3,3]   z[3,4]   z[3,5]      z[3,13]   z[3,14]   z[3,15]\n",
       " z[4,1]   z[4,2]   z[4,3]   z[4,4]   z[4,5]      z[4,13]   z[4,14]   z[4,15]\n",
       " z[5,1]   z[5,2]   z[5,3]   z[5,4]   z[5,5]      z[5,13]   z[5,14]   z[5,15]\n",
       " z[6,1]   z[6,2]   z[6,3]   z[6,4]   z[6,5]   …  z[6,13]   z[6,14]   z[6,15]\n",
       " z[7,1]   z[7,2]   z[7,3]   z[7,4]   z[7,5]      z[7,13]   z[7,14]   z[7,15]\n",
       " z[8,1]   z[8,2]   z[8,3]   z[8,4]   z[8,5]      z[8,13]   z[8,14]   z[8,15]\n",
       " z[9,1]   z[9,2]   z[9,3]   z[9,4]   z[9,5]      z[9,13]   z[9,14]   z[9,15]\n",
       " z[10,1]  z[10,2]  z[10,3]  z[10,4]  z[10,5]     z[10,13]  z[10,14]  z[10,15]\n",
       " ⋮                                            ⋱                      \n",
       " z[67,1]  z[67,2]  z[67,3]  z[67,4]  z[67,5]     z[67,13]  z[67,14]  z[67,15]\n",
       " z[68,1]  z[68,2]  z[68,3]  z[68,4]  z[68,5]     z[68,13]  z[68,14]  z[68,15]\n",
       " z[69,1]  z[69,2]  z[69,3]  z[69,4]  z[69,5]     z[69,13]  z[69,14]  z[69,15]\n",
       " z[70,1]  z[70,2]  z[70,3]  z[70,4]  z[70,5]     z[70,13]  z[70,14]  z[70,15]\n",
       " z[71,1]  z[71,2]  z[71,3]  z[71,4]  z[71,5]  …  z[71,13]  z[71,14]  z[71,15]\n",
       " z[72,1]  z[72,2]  z[72,3]  z[72,4]  z[72,5]     z[72,13]  z[72,14]  z[72,15]\n",
       " z[73,1]  z[73,2]  z[73,3]  z[73,4]  z[73,5]     z[73,13]  z[73,14]  z[73,15]\n",
       " z[74,1]  z[74,2]  z[74,3]  z[74,4]  z[74,5]     z[74,13]  z[74,14]  z[74,15]\n",
       " z[75,1]  z[75,2]  z[75,3]  z[75,4]  z[75,5]     z[75,13]  z[75,14]  z[75,15]"
      ]
     },
     "metadata": {},
     "output_type": "display_data"
    }
   ],
   "source": [
    "modelQ1 = Model(HiGHS.Optimizer)\n",
    "@variable(modelQ1, x[1:CardVS, 1:CardS], Bin)\n",
    "@variable(modelQ1, y0[1:CardE0, 1:CardQ0], Bin)\n",
    "@variable(modelQ1, ys[1:CardVS, 1:CardVS, 1:CardQS], Bin)\n",
    "@variable(modelQ1,z[1:CardVT ,1:CardVS], Bin)"
   ]
  },
  {
   "cell_type": "code",
   "execution_count": 116,
   "metadata": {},
   "outputs": [],
   "source": [
    "for k in 1:CardQS\n",
    "    for i in 1:CardVS\n",
    "        for j in 1:CardVS\n",
    "            @constraint(modelQ1,ys[i,j,k]==ys[j,i,k])\n",
    "        end\n",
    "    end\n",
    "end"
   ]
  },
  {
   "cell_type": "code",
   "execution_count": 117,
   "metadata": {},
   "outputs": [
    {
     "data": {
      "text/plain": [
       "15×15 Matrix{Any}:\n",
       " 0                                                                                                                                                                                                                                                                                                                             …   100 ys[1,15,1] + 200 ys[1,15,2] + 300 ys[1,15,3] + 500 ys[1,15,4] + 900 ys[1,15,5] + 1450 ys[1,15,6] + 100 ys[1,15,7] + 200 ys[1,15,8] + 300 ys[1,15,9] + 500 ys[1,15,10] + 900 ys[1,15,11] + 1450 ys[1,15,12] + 100 ys[1,15,13] + 200 ys[1,15,14] + 300 ys[1,15,15] + 500 ys[1,15,16] + 900 ys[1,15,17] + 1450 ys[1,15,18]\n",
       "  100 ys[2,1,1] + 200 ys[2,1,2] + 300 ys[2,1,3] + 500 ys[2,1,4] + 900 ys[2,1,5] + 1450 ys[2,1,6] + 100 ys[2,1,7] + 200 ys[2,1,8] + 300 ys[2,1,9] + 500 ys[2,1,10] + 900 ys[2,1,11] + 1450 ys[2,1,12] + 100 ys[2,1,13] + 200 ys[2,1,14] + 300 ys[2,1,15] + 500 ys[2,1,16] + 900 ys[2,1,17] + 1450 ys[2,1,18]                        100 ys[2,15,1] + 200 ys[2,15,2] + 300 ys[2,15,3] + 500 ys[2,15,4] + 900 ys[2,15,5] + 1450 ys[2,15,6] + 100 ys[2,15,7] + 200 ys[2,15,8] + 300 ys[2,15,9] + 500 ys[2,15,10] + 900 ys[2,15,11] + 1450 ys[2,15,12] + 100 ys[2,15,13] + 200 ys[2,15,14] + 300 ys[2,15,15] + 500 ys[2,15,16] + 900 ys[2,15,17] + 1450 ys[2,15,18]\n",
       "  100 ys[3,1,1] + 200 ys[3,1,2] + 300 ys[3,1,3] + 500 ys[3,1,4] + 900 ys[3,1,5] + 1450 ys[3,1,6] + 100 ys[3,1,7] + 200 ys[3,1,8] + 300 ys[3,1,9] + 500 ys[3,1,10] + 900 ys[3,1,11] + 1450 ys[3,1,12] + 100 ys[3,1,13] + 200 ys[3,1,14] + 300 ys[3,1,15] + 500 ys[3,1,16] + 900 ys[3,1,17] + 1450 ys[3,1,18]                        100 ys[3,15,1] + 200 ys[3,15,2] + 300 ys[3,15,3] + 500 ys[3,15,4] + 900 ys[3,15,5] + 1450 ys[3,15,6] + 100 ys[3,15,7] + 200 ys[3,15,8] + 300 ys[3,15,9] + 500 ys[3,15,10] + 900 ys[3,15,11] + 1450 ys[3,15,12] + 100 ys[3,15,13] + 200 ys[3,15,14] + 300 ys[3,15,15] + 500 ys[3,15,16] + 900 ys[3,15,17] + 1450 ys[3,15,18]\n",
       "  100 ys[4,1,1] + 200 ys[4,1,2] + 300 ys[4,1,3] + 500 ys[4,1,4] + 900 ys[4,1,5] + 1450 ys[4,1,6] + 100 ys[4,1,7] + 200 ys[4,1,8] + 300 ys[4,1,9] + 500 ys[4,1,10] + 900 ys[4,1,11] + 1450 ys[4,1,12] + 100 ys[4,1,13] + 200 ys[4,1,14] + 300 ys[4,1,15] + 500 ys[4,1,16] + 900 ys[4,1,17] + 1450 ys[4,1,18]                        100 ys[4,15,1] + 200 ys[4,15,2] + 300 ys[4,15,3] + 500 ys[4,15,4] + 900 ys[4,15,5] + 1450 ys[4,15,6] + 100 ys[4,15,7] + 200 ys[4,15,8] + 300 ys[4,15,9] + 500 ys[4,15,10] + 900 ys[4,15,11] + 1450 ys[4,15,12] + 100 ys[4,15,13] + 200 ys[4,15,14] + 300 ys[4,15,15] + 500 ys[4,15,16] + 900 ys[4,15,17] + 1450 ys[4,15,18]\n",
       "  100 ys[5,1,1] + 200 ys[5,1,2] + 300 ys[5,1,3] + 500 ys[5,1,4] + 900 ys[5,1,5] + 1450 ys[5,1,6] + 100 ys[5,1,7] + 200 ys[5,1,8] + 300 ys[5,1,9] + 500 ys[5,1,10] + 900 ys[5,1,11] + 1450 ys[5,1,12] + 100 ys[5,1,13] + 200 ys[5,1,14] + 300 ys[5,1,15] + 500 ys[5,1,16] + 900 ys[5,1,17] + 1450 ys[5,1,18]                        100 ys[5,15,1] + 200 ys[5,15,2] + 300 ys[5,15,3] + 500 ys[5,15,4] + 900 ys[5,15,5] + 1450 ys[5,15,6] + 100 ys[5,15,7] + 200 ys[5,15,8] + 300 ys[5,15,9] + 500 ys[5,15,10] + 900 ys[5,15,11] + 1450 ys[5,15,12] + 100 ys[5,15,13] + 200 ys[5,15,14] + 300 ys[5,15,15] + 500 ys[5,15,16] + 900 ys[5,15,17] + 1450 ys[5,15,18]\n",
       "  100 ys[6,1,1] + 200 ys[6,1,2] + 300 ys[6,1,3] + 500 ys[6,1,4] + 900 ys[6,1,5] + 1450 ys[6,1,6] + 100 ys[6,1,7] + 200 ys[6,1,8] + 300 ys[6,1,9] + 500 ys[6,1,10] + 900 ys[6,1,11] + 1450 ys[6,1,12] + 100 ys[6,1,13] + 200 ys[6,1,14] + 300 ys[6,1,15] + 500 ys[6,1,16] + 900 ys[6,1,17] + 1450 ys[6,1,18]                    …   100 ys[6,15,1] + 200 ys[6,15,2] + 300 ys[6,15,3] + 500 ys[6,15,4] + 900 ys[6,15,5] + 1450 ys[6,15,6] + 100 ys[6,15,7] + 200 ys[6,15,8] + 300 ys[6,15,9] + 500 ys[6,15,10] + 900 ys[6,15,11] + 1450 ys[6,15,12] + 100 ys[6,15,13] + 200 ys[6,15,14] + 300 ys[6,15,15] + 500 ys[6,15,16] + 900 ys[6,15,17] + 1450 ys[6,15,18]\n",
       "  100 ys[7,1,1] + 200 ys[7,1,2] + 300 ys[7,1,3] + 500 ys[7,1,4] + 900 ys[7,1,5] + 1450 ys[7,1,6] + 100 ys[7,1,7] + 200 ys[7,1,8] + 300 ys[7,1,9] + 500 ys[7,1,10] + 900 ys[7,1,11] + 1450 ys[7,1,12] + 100 ys[7,1,13] + 200 ys[7,1,14] + 300 ys[7,1,15] + 500 ys[7,1,16] + 900 ys[7,1,17] + 1450 ys[7,1,18]                        100 ys[7,15,1] + 200 ys[7,15,2] + 300 ys[7,15,3] + 500 ys[7,15,4] + 900 ys[7,15,5] + 1450 ys[7,15,6] + 100 ys[7,15,7] + 200 ys[7,15,8] + 300 ys[7,15,9] + 500 ys[7,15,10] + 900 ys[7,15,11] + 1450 ys[7,15,12] + 100 ys[7,15,13] + 200 ys[7,15,14] + 300 ys[7,15,15] + 500 ys[7,15,16] + 900 ys[7,15,17] + 1450 ys[7,15,18]\n",
       "  100 ys[8,1,1] + 200 ys[8,1,2] + 300 ys[8,1,3] + 500 ys[8,1,4] + 900 ys[8,1,5] + 1450 ys[8,1,6] + 100 ys[8,1,7] + 200 ys[8,1,8] + 300 ys[8,1,9] + 500 ys[8,1,10] + 900 ys[8,1,11] + 1450 ys[8,1,12] + 100 ys[8,1,13] + 200 ys[8,1,14] + 300 ys[8,1,15] + 500 ys[8,1,16] + 900 ys[8,1,17] + 1450 ys[8,1,18]                        100 ys[8,15,1] + 200 ys[8,15,2] + 300 ys[8,15,3] + 500 ys[8,15,4] + 900 ys[8,15,5] + 1450 ys[8,15,6] + 100 ys[8,15,7] + 200 ys[8,15,8] + 300 ys[8,15,9] + 500 ys[8,15,10] + 900 ys[8,15,11] + 1450 ys[8,15,12] + 100 ys[8,15,13] + 200 ys[8,15,14] + 300 ys[8,15,15] + 500 ys[8,15,16] + 900 ys[8,15,17] + 1450 ys[8,15,18]\n",
       "  100 ys[9,1,1] + 200 ys[9,1,2] + 300 ys[9,1,3] + 500 ys[9,1,4] + 900 ys[9,1,5] + 1450 ys[9,1,6] + 100 ys[9,1,7] + 200 ys[9,1,8] + 300 ys[9,1,9] + 500 ys[9,1,10] + 900 ys[9,1,11] + 1450 ys[9,1,12] + 100 ys[9,1,13] + 200 ys[9,1,14] + 300 ys[9,1,15] + 500 ys[9,1,16] + 900 ys[9,1,17] + 1450 ys[9,1,18]                        100 ys[9,15,1] + 200 ys[9,15,2] + 300 ys[9,15,3] + 500 ys[9,15,4] + 900 ys[9,15,5] + 1450 ys[9,15,6] + 100 ys[9,15,7] + 200 ys[9,15,8] + 300 ys[9,15,9] + 500 ys[9,15,10] + 900 ys[9,15,11] + 1450 ys[9,15,12] + 100 ys[9,15,13] + 200 ys[9,15,14] + 300 ys[9,15,15] + 500 ys[9,15,16] + 900 ys[9,15,17] + 1450 ys[9,15,18]\n",
       "  100 ys[10,1,1] + 200 ys[10,1,2] + 300 ys[10,1,3] + 500 ys[10,1,4] + 900 ys[10,1,5] + 1450 ys[10,1,6] + 100 ys[10,1,7] + 200 ys[10,1,8] + 300 ys[10,1,9] + 500 ys[10,1,10] + 900 ys[10,1,11] + 1450 ys[10,1,12] + 100 ys[10,1,13] + 200 ys[10,1,14] + 300 ys[10,1,15] + 500 ys[10,1,16] + 900 ys[10,1,17] + 1450 ys[10,1,18]      100 ys[10,15,1] + 200 ys[10,15,2] + 300 ys[10,15,3] + 500 ys[10,15,4] + 900 ys[10,15,5] + 1450 ys[10,15,6] + 100 ys[10,15,7] + 200 ys[10,15,8] + 300 ys[10,15,9] + 500 ys[10,15,10] + 900 ys[10,15,11] + 1450 ys[10,15,12] + 100 ys[10,15,13] + 200 ys[10,15,14] + 300 ys[10,15,15] + 500 ys[10,15,16] + 900 ys[10,15,17] + 1450 ys[10,15,18]\n",
       "  100 ys[11,1,1] + 200 ys[11,1,2] + 300 ys[11,1,3] + 500 ys[11,1,4] + 900 ys[11,1,5] + 1450 ys[11,1,6] + 100 ys[11,1,7] + 200 ys[11,1,8] + 300 ys[11,1,9] + 500 ys[11,1,10] + 900 ys[11,1,11] + 1450 ys[11,1,12] + 100 ys[11,1,13] + 200 ys[11,1,14] + 300 ys[11,1,15] + 500 ys[11,1,16] + 900 ys[11,1,17] + 1450 ys[11,1,18]  …   100 ys[11,15,1] + 200 ys[11,15,2] + 300 ys[11,15,3] + 500 ys[11,15,4] + 900 ys[11,15,5] + 1450 ys[11,15,6] + 100 ys[11,15,7] + 200 ys[11,15,8] + 300 ys[11,15,9] + 500 ys[11,15,10] + 900 ys[11,15,11] + 1450 ys[11,15,12] + 100 ys[11,15,13] + 200 ys[11,15,14] + 300 ys[11,15,15] + 500 ys[11,15,16] + 900 ys[11,15,17] + 1450 ys[11,15,18]\n",
       "  100 ys[12,1,1] + 200 ys[12,1,2] + 300 ys[12,1,3] + 500 ys[12,1,4] + 900 ys[12,1,5] + 1450 ys[12,1,6] + 100 ys[12,1,7] + 200 ys[12,1,8] + 300 ys[12,1,9] + 500 ys[12,1,10] + 900 ys[12,1,11] + 1450 ys[12,1,12] + 100 ys[12,1,13] + 200 ys[12,1,14] + 300 ys[12,1,15] + 500 ys[12,1,16] + 900 ys[12,1,17] + 1450 ys[12,1,18]      100 ys[12,15,1] + 200 ys[12,15,2] + 300 ys[12,15,3] + 500 ys[12,15,4] + 900 ys[12,15,5] + 1450 ys[12,15,6] + 100 ys[12,15,7] + 200 ys[12,15,8] + 300 ys[12,15,9] + 500 ys[12,15,10] + 900 ys[12,15,11] + 1450 ys[12,15,12] + 100 ys[12,15,13] + 200 ys[12,15,14] + 300 ys[12,15,15] + 500 ys[12,15,16] + 900 ys[12,15,17] + 1450 ys[12,15,18]\n",
       "  100 ys[13,1,1] + 200 ys[13,1,2] + 300 ys[13,1,3] + 500 ys[13,1,4] + 900 ys[13,1,5] + 1450 ys[13,1,6] + 100 ys[13,1,7] + 200 ys[13,1,8] + 300 ys[13,1,9] + 500 ys[13,1,10] + 900 ys[13,1,11] + 1450 ys[13,1,12] + 100 ys[13,1,13] + 200 ys[13,1,14] + 300 ys[13,1,15] + 500 ys[13,1,16] + 900 ys[13,1,17] + 1450 ys[13,1,18]      100 ys[13,15,1] + 200 ys[13,15,2] + 300 ys[13,15,3] + 500 ys[13,15,4] + 900 ys[13,15,5] + 1450 ys[13,15,6] + 100 ys[13,15,7] + 200 ys[13,15,8] + 300 ys[13,15,9] + 500 ys[13,15,10] + 900 ys[13,15,11] + 1450 ys[13,15,12] + 100 ys[13,15,13] + 200 ys[13,15,14] + 300 ys[13,15,15] + 500 ys[13,15,16] + 900 ys[13,15,17] + 1450 ys[13,15,18]\n",
       "  100 ys[14,1,1] + 200 ys[14,1,2] + 300 ys[14,1,3] + 500 ys[14,1,4] + 900 ys[14,1,5] + 1450 ys[14,1,6] + 100 ys[14,1,7] + 200 ys[14,1,8] + 300 ys[14,1,9] + 500 ys[14,1,10] + 900 ys[14,1,11] + 1450 ys[14,1,12] + 100 ys[14,1,13] + 200 ys[14,1,14] + 300 ys[14,1,15] + 500 ys[14,1,16] + 900 ys[14,1,17] + 1450 ys[14,1,18]      100 ys[14,15,1] + 200 ys[14,15,2] + 300 ys[14,15,3] + 500 ys[14,15,4] + 900 ys[14,15,5] + 1450 ys[14,15,6] + 100 ys[14,15,7] + 200 ys[14,15,8] + 300 ys[14,15,9] + 500 ys[14,15,10] + 900 ys[14,15,11] + 1450 ys[14,15,12] + 100 ys[14,15,13] + 200 ys[14,15,14] + 300 ys[14,15,15] + 500 ys[14,15,16] + 900 ys[14,15,17] + 1450 ys[14,15,18]\n",
       "  100 ys[15,1,1] + 200 ys[15,1,2] + 300 ys[15,1,3] + 500 ys[15,1,4] + 900 ys[15,1,5] + 1450 ys[15,1,6] + 100 ys[15,1,7] + 200 ys[15,1,8] + 300 ys[15,1,9] + 500 ys[15,1,10] + 900 ys[15,1,11] + 1450 ys[15,1,12] + 100 ys[15,1,13] + 200 ys[15,1,14] + 300 ys[15,1,15] + 500 ys[15,1,16] + 900 ys[15,1,17] + 1450 ys[15,1,18]     0"
      ]
     },
     "metadata": {},
     "output_type": "display_data"
    }
   ],
   "source": [
    "#Je rajoute ttes les variables binaires (ou non) dont j'ai besoin\n",
    "MQ = 99999\n",
    "rx = [sum(current_instance.substation_types[i].rating * x[i, k] for k in 1:CardS) for i in 1:CardVS]\n",
    "ryq0 = [sum(current_instance.land_substation_cable_types[i].rating * y0[i,k] for k in 1:CardQ0) for i in 1:CardVS]\n",
    "somze = [ sum(z[k,i] for k in 1:CardVT) for i in 1:CardVS]\n",
    "ryqs = [sum( j!=i ? sum( current_instance.substation_substation_cable_types[k].rating * ys[i,j,k]  for k in 1:CardQS) : 0 for j in 1:CardVS) for i in 1:CardVS] #Somme des rqyeq pour un v in Vs (yvvq=0)\n",
    "ryqscf = [ i != j ?  sum( current_instance.substation_substation_cable_types[k].rating * ys[i,j,k] for k in 1:CardQS) : 0 for i in 1:CardVS, j in 1:CardVS]\n",
    "\n"
   ]
  },
  {
   "cell_type": "code",
   "execution_count": 118,
   "metadata": {},
   "outputs": [],
   "source": [
    "#On construit tous les min de rsxvs/rqyeq : il y en a CardVS : pour chaque CardVS, il faut créer 3 variables. le mu, le x, et le yBin\n",
    "@variable(modelQ1, MinCnx[1:CardVS])\n",
    "@variable(modelQ1, MinCny[1:CardVS], Bin)\n",
    "@variable(modelQ1, MinCn[1:CardVS])\n",
    "for i in 1:CardVS\n",
    "    contrainteQ3!(modelQ1,MinCn[i],-rx[i],-ryq0[i],MQ,MinCnx[i],MinCny[i])#model, mu, alpha, beta,M,x,y\n",
    "end\n",
    "#Attention, ici, MinCN est -min, il faudra donc mettre un plus dans la déf de Cn"
   ]
  },
  {
   "cell_type": "code",
   "execution_count": 119,
   "metadata": {},
   "outputs": [],
   "source": [
    "#On crée les parties positives de Cn\n",
    "@variable(modelQ1,PosCny[1:CardVS,1:OMEGA],Bin) #On a autant de variable binaire pour les partie positive que le nmbre de scenarios * VS\n",
    "@variable(modelQ1,PosCn[1:CardVS, 1:OMEGA])\n",
    "for i in 1:CardVS\n",
    "    for j in 1:OMEGA #model,mu,beta,M,y\n",
    "        contrainteQ2!(modelQ1,PosCn[i,j],current_instance.wind_scenarios[j].power_generation*somze[i]+MinCn[i],MQ,PosCny[i,j]) ##Le + est voulu\n",
    "    end\n",
    "end\n",
    "@variable(modelQ1,Cn[1:OMEGA])\n",
    "for j in 1:OMEGA\n",
    "    @constraint(modelQ1,Cn[j] == sum( PosCn[i,j] for i in 1:CardVS))\n",
    "end"
   ]
  },
  {
   "cell_type": "code",
   "execution_count": 120,
   "metadata": {},
   "outputs": [],
   "source": [
    "#Cf sera un Cf[1:CardVS,1:OMEGA]\n",
    "@variable(modelQ1, P1Cf[1:CardVS,1:OMEGA])\n",
    "@variable(modelQ1, P1Cfy[1:CardVS,1:OMEGA])\n",
    "for i in 1:CardVS\n",
    "    for j in 1:OMEGA\n",
    "        contrainteQ2!(modelQ1,P1Cf[i,j],current_instance.wind_scenarios[j].power_generation*somze[i]-ryqs[i],MQ,P1Cfy[i,j])#model,mu,beta,M,y\n",
    "    end\n",
    "end\n",
    "\n"
   ]
  },
  {
   "cell_type": "code",
   "execution_count": 121,
   "metadata": {},
   "outputs": [],
   "source": [
    "#On crée les nouveaux tableaux dont on a besoin pour P2 de Cf :\n",
    "@variable(modelQ1,Min1Cfy[1:CardVS,1:CardVS,1:OMEGA],Bin)\n",
    "@variable(modelQ1,Min1Cfx[1:CardVS,1:CardVS,1:OMEGA])\n",
    "@variable(modelQ1,Min1Cf[1:CardVS,1:CardVS,1:OMEGA])\n",
    "for i in 1:CardVS\n",
    "    for j in 1:CardVS\n",
    "        for k in 1:OMEGA\n",
    "            contrainteQ3!(modelQ1,Min1Cf[i,j,k],-ryqscf[i,j],-current_instance.wind_scenarios[k].power_generation * somze[i], MQ, Min1Cfx[i,j,k], Min1Cfy[i,j,k])#model, mu, alpha, beta,M,x,y\n",
    "        end\n",
    "    end\n",
    "end #Cette variable est -min : il faudra mettre un - devant\n",
    "\n"
   ]
  },
  {
   "cell_type": "code",
   "execution_count": 122,
   "metadata": {},
   "outputs": [],
   "source": [
    "@variable(modelQ1, PosCf[1:CardVS,1:CardVS,1:OMEGA])\n",
    "@variable(modelQ1,PosCfy[1:CardVS,1:CardVS,1:OMEGA],Bin)\n",
    "for i in 1:CardVS\n",
    "    for j in 1:CardVS\n",
    "        for k in 1:OMEGA\n",
    "            if i != j\n",
    "            contrainteQ2!(modelQ1,PosCf[i,j,k],current_instance.wind_scenarios[k].power_generation*somze[j]-Min1Cf[i,j,k]+MinCn[j],MQ,PosCfy[i,j,k])#model,mu,beta,M,y\n",
    "            else\n",
    "                @constraint(modelQ1,PosCf[i,j,k]==0)\n",
    "            end\n",
    "        end\n",
    "    end\n",
    "end\n",
    "@variable(modelQ1,Cf[1:CardVS,1:OMEGA])\n",
    "for i in 1:CardVS\n",
    "    for k in 1:OMEGA\n",
    "        @constraint(modelQ1,Cf[i,k] ==  P1Cf[i,k] + sum( i!=j ? PosCf[i,j,k] : 0 for j in 1:CardVS))\n",
    "    end\n",
    "end\n"
   ]
  },
  {
   "cell_type": "markdown",
   "metadata": {},
   "source": [
    "A ce stade, on a Cn (taille1:OMEGA et Cf (taille CardVS x OMEGA))"
   ]
  },
  {
   "cell_type": "code",
   "execution_count": 101,
   "metadata": {},
   "outputs": [],
   "source": [
    "#On rajoute les contraintes 1, 2, 3 et 4 de l'énoncé\n",
    "for i in 1:CardVS\n",
    "    @constraint(modelQ1, sum(x[i,j] for j in 1:CardS) <= 1)\n",
    "end\n",
    "for i in 1:CardVS\n",
    "    @constraint(modelQ1,sum( y0[i,j] for j in 1:CardQ0) == sum( x[i,j] for j in 1:CardS))\n",
    "end\n",
    "for i in 1:CardVT\n",
    "    @constraint(modelQ1, sum(z[i,j] for j in 1:CardVS) == 1)\n",
    "end\n",
    "for i in 1:CardVS\n",
    "    @constraint(modelQ1, sum( i!=j ? sum( ys[i,j,k] for k in 1:CardQS) : 0 for j in 1:CardVS) <= sum( x[i,j] for j in 1:CardS))\n",
    "end"
   ]
  },
  {
   "cell_type": "code",
   "execution_count": 102,
   "metadata": {},
   "outputs": [
    {
     "data": {
      "text/plain": [
       "50000.0"
      ]
     },
     "metadata": {},
     "output_type": "display_data"
    }
   ],
   "source": [
    "c0 = current_instance.curtailing_cost\n",
    "cp = current_instance.curtailing_penalty\n",
    "cmax = current_instance.maximum_curtailing"
   ]
  },
  {
   "cell_type": "markdown",
   "metadata": {},
   "source": [
    "function distance_to_land(instance::Instance, substation_id)\n",
    "    return distance(instance.land, instance.substation_locations[substation_id])\n",
    "end\n",
    "\n",
    "function distance_inter_station(instance::Instance, v₁, v₂)\n",
    "    return distance(instance.substation_locations[v₁], instance.substation_locations[v₂])\n",
    "end"
   ]
  },
  {
   "cell_type": "code",
   "execution_count": 103,
   "metadata": {},
   "outputs": [
    {
     "data": {
      "text/plain": [
       "14.142135623730951"
      ]
     },
     "metadata": {},
     "output_type": "display_data"
    }
   ],
   "source": [
    "KIRO2023.distance_to_land(current_instance,1)"
   ]
  },
  {
   "cell_type": "code",
   "execution_count": 104,
   "metadata": {},
   "outputs": [
    {
     "data": {
      "text/latex": [
       "$$ -100000 x_{1,1} - 200000 x_{1,2} - 200000 x_{2,2} - 2282.842712474619 y0_{1,1} - 2565.685424949238 y0_{2,1} - 3424.2640687119283 y0_{1,2} - 3848.528137423857 y0_{2,2} - 1141.4213562373095 ys_{2,1,1} - 1141.4213562373095 ys_{1,2,1} - 1712.1320343559642 ys_{2,1,2} - 1712.1320343559642 ys_{1,2,2} - 1070.7106781186549 z_{1,1} - 1070.7106781186549 z_{2,1} - 1212.1320343559642 z_{3,1} - 1212.1320343559642 z_{1,2} - 1070.7106781186549 z_{2,2} - 1070.7106781186549 z_{3,2} + constructioncost = 0 $$"
      ],
      "text/plain": [
       "-100000 x[1,1] - 200000 x[1,2] - 200000 x[2,2] - 2282.842712474619 y0[1,1] - 2565.685424949238 y0[2,1] - 3424.2640687119283 y0[1,2] - 3848.528137423857 y0[2,2] - 1141.4213562373095 ys[2,1,1] - 1141.4213562373095 ys[1,2,1] - 1712.1320343559642 ys[2,1,2] - 1712.1320343559642 ys[1,2,2] - 1070.7106781186549 z[1,1] - 1070.7106781186549 z[2,1] - 1212.1320343559642 z[3,1] - 1212.1320343559642 z[1,2] - 1070.7106781186549 z[2,2] - 1070.7106781186549 z[3,2] + constructioncost == 0"
      ]
     },
     "metadata": {},
     "output_type": "display_data"
    }
   ],
   "source": [
    "@variable(modelQ1,constructioncost)\n",
    "@constraint(modelQ1,constructioncost == sum(sum( current_instance.substation_types[j].cost * x[i,j] for j in i:CardS) for i in 1:CardVS) \n",
    "                                            + sum(sum( y0[i,j]*(current_instance.land_substation_cable_types[j].fixed_cost + current_instance.land_substation_cable_types[j].variable_cost*KIRO2023.distance_to_land(current_instance,i) ) for j in 1:CardQ0) for i in 1:CardVS)\n",
    "                                            + sum(sum( i!=j ? sum( ys[i,j,k]*(current_instance.substation_substation_cable_types[k].fixed_cost + current_instance.substation_substation_cable_types[k].variable_cost*KIRO2023.distance_inter_station(current_instance,i,j)) for k in 1:CardQS) : 0 for j in 1:CardVS) for i in 1:CardVS)\n",
    "                                            +  sum(sum(z[i,j]*(current_instance.fixed_cost_cable+current_instance.variable_cost_cable*KIRO2023.distance(current_instance.substation_locations[j],current_instance.wind_turbines[i])) for j in 1:CardVS) for i in 1:CardVT))#fixed_cost_cable and #variable_cost_cable"
   ]
  },
  {
   "cell_type": "code",
   "execution_count": 105,
   "metadata": {},
   "outputs": [],
   "source": [
    "@variable(modelQ1,operationnalcost) #il faut créer 2*VS*OMEGA binaires + continues\n",
    "@variable(modelQ1,opcostCfy[1:CardVS,1:OMEGA],Bin)\n",
    "@variable(modelQ1,opcostCf[1:CardVS,1:OMEGA])\n",
    "@variable(modelQ1,opcostCny[1:OMEGA], Bin)\n",
    "@variable(modelQ1,opcostCn[1:OMEGA])\n",
    "\n",
    "for i in 1:CardVS\n",
    "    for j in 1:OMEGA\n",
    "        contrainteQ2!(modelQ1,opcostCf[i,j],Cf[i,j]-cmax,MQ,opcostCfy[i,j])#model,mu,beta,M,y\n",
    "    end\n",
    "end\n",
    "for i in 1:OMEGA\n",
    "    contrainteQ2!(modelQ1,opcostCn[i],Cn[i]-cmax,MQ,opcostCny[i])\n",
    "end\n",
    "@variable(modelQ1, cCf[1:CardVS,1:OMEGA])\n",
    "@variable(modelQ1,cCn[1:OMEGA])\n",
    "for i in 1:CardVS\n",
    "    for j in 1:OMEGA\n",
    "        @constraint(modelQ1, cCf[i,j]==c0*Cf[i,j]+cp*opcostCf[i,j])\n",
    "    end\n",
    "end\n",
    "for i in 1:OMEGA\n",
    "    @constraint(modelQ1,cCn[i]== c0*Cn[i]+cp*opcostCn[i])\n",
    "end\n"
   ]
  },
  {
   "cell_type": "code",
   "execution_count": 106,
   "metadata": {},
   "outputs": [],
   "source": [
    "#2 ID2ESS : faire la ligne au dessus, ou aussi quand on fait des produits de rsxs par ex, faire des contrainteQ1! a chaque fois pour linéariser cela"
   ]
  },
  {
   "cell_type": "code",
   "execution_count": 107,
   "metadata": {},
   "outputs": [],
   "source": [
    "#@variable(modelQ1,muy)\n",
    "#contrainteQ1!(modelQ1,muy,x[1],cCf[1,1],MQ)"
   ]
  },
  {
   "cell_type": "markdown",
   "metadata": {},
   "source": [
    "pf[i]=$$\\sum\\limits_{j=1}^{CardS}currentinstance[j].pfail*x[i,j]+\\sum\\limits_{j=1}^{CardQ0}currentinstane.lsscabletypes[j].pfail*y0[i,j]$$"
   ]
  },
  {
   "cell_type": "code",
   "execution_count": 109,
   "metadata": {},
   "outputs": [],
   "source": [
    "@variable(modelQ1, pfccf[1:CardVS, 1:OMEGA])\n",
    "@variable(modelQ1, pfccn[1:CardVS, 1:OMEGA])\n",
    "@variable(modelQ1,PFS[1:CardVS, 1:OMEGA, 1:CardS])\n",
    "@variable(modelQ1,PFQ[1:CardVS, 1:OMEGA, 1:CardQ0])\n",
    "@variable(modelQ1,PNS[1:CardVS, 1:OMEGA, 1:CardS])\n",
    "@variable(modelQ1,PNQ[1:CardVS, 1:OMEGA, 1:CardQ0])\n",
    "for i in 1:CardVS\n",
    "    for j in 1:OMEGA\n",
    "        for k in 1:CardS\n",
    "            contrainteQ1!(modelQ1,PFS[i,j,k],x[i,k],current_instance.substation_types[k].probability_of_failure*cCf[i,j],MQ)\n",
    "        end\n",
    "        for k in 1:CardQ0\n",
    "            contrainteQ1!(modelQ1,PFQ[i,j,k],y0[i,k],current_instance.land_substation_cable_types[k].probability_of_failure*cCf[i,j],MQ)\n",
    "        end\n",
    "    end\n",
    "end\n",
    "for i in 1:CardVS\n",
    "    for j in 1:OMEGA\n",
    "        @constraint(modelQ1,pfccf[i,j] == sum(PFS[i,j,k] for k in 1:CardS)+ sum(PFQ[i,j,k] for k in 1:CardQ0))\n",
    "    end\n",
    "end\n",
    "for i in 1:CardVS\n",
    "    for j in 1:OMEGA\n",
    "        for k in 1:CardS\n",
    "            contrainteQ1!(modelQ1,PNS[i,j,k],x[i,k],current_instance.substation_types[k].probability_of_failure*cCn[j],MQ)\n",
    "        end\n",
    "        for k in 1:CardQ0\n",
    "            contrainteQ1!(modelQ1,PNQ[i,j,k],y0[i,k],current_instance.land_substation_cable_types[k].probability_of_failure*cCn[j],MQ)\n",
    "        end\n",
    "    end\n",
    "end\n",
    "for i in 1:CardVS\n",
    "    for j in 1:OMEGA\n",
    "        @constraint(modelQ1,pfccn[i,j] == sum(PNS[i,j,k] for k in 1:CardS)+ sum(PNQ[i,j,k] for k in 1:CardQ0))\n",
    "    end\n",
    "end\n"
   ]
  },
  {
   "cell_type": "code",
   "execution_count": 110,
   "metadata": {},
   "outputs": [
    {
     "data": {
      "text/latex": [
       "$$ operationnalcost - 0.1 cCn_{1} - 0.9 cCn_{2} - 0.1 pfccf_{1,1} - 0.1 pfccf_{2,1} - 0.9 pfccf_{1,2} - 0.9 pfccf_{2,2} + 0.1 pfccn_{1,1} + 0.1 pfccn_{2,1} + 0.9 pfccn_{1,2} + 0.9 pfccn_{2,2} = 0 $$"
      ],
      "text/plain": [
       "operationnalcost - 0.1 cCn[1] - 0.9 cCn[2] - 0.1 pfccf[1,1] - 0.1 pfccf[2,1] - 0.9 pfccf[1,2] - 0.9 pfccf[2,2] + 0.1 pfccn[1,1] + 0.1 pfccn[2,1] + 0.9 pfccn[1,2] + 0.9 pfccn[2,2] == 0"
      ]
     },
     "metadata": {},
     "output_type": "display_data"
    }
   ],
   "source": [
    "@constraint(modelQ1, operationnalcost == sum( current_instance.wind_scenarios[j].probability*(sum( pfccf[i,j] for i in 1:CardVS) +cCn[j]-sum( pfccn[i,j] for i in 1:CardVS)) for j in 1:OMEGA))"
   ]
  },
  {
   "cell_type": "code",
   "execution_count": 112,
   "metadata": {},
   "outputs": [
    {
     "name": "stdout",
     "output_type": "stream",
     "text": [
      "Running HiGHS 1.6.0: Copyright (c) 2023 HiGHS under MIT licence terms\n",
      "Presolving model\n",
      "262 rows, 129 cols, 943 nonzeros\n",
      "228 rows, 103 cols, 742 nonzeros\n",
      "208 rows, 95 cols, 725 nonzeros\n",
      "\n",
      "Solving MIP model with:\n",
      "   208 rows\n",
      "   95 cols (27 binary, 0 integer, 2 implied int., 66 continuous)\n",
      "   725 nonzeros\n",
      "\n",
      "        Nodes      |    B&B Tree     |            Objective Bounds              |  Dynamic Constraints |       Work      \n",
      "     Proc. InQueue |  Leaves   Expl. | BestBound       BestSol              Gap |   Cuts   InLp Confl. | LpIters     Time\n",
      "\n",
      "         0       0         0   0.00%   3196.472034     inf                  inf        0      0      0         0     0.0s\n",
      " R       0       0         0   0.00%   3384.435053     3386.132034        0.05%        0      0      0        62     0.0s\n",
      "\n",
      "Solving report\n",
      "  Status            Optimal\n",
      "  Primal bound      3386.13203436\n",
      "  Dual bound        3386.13203436\n",
      "  Gap               0% (tolerance: 0.01%)\n",
      "  Solution status   feasible\n",
      "                    3386.13203436 (objective)\n",
      "                    0 (bound viol.)\n",
      "                    0 (int. viol.)\n",
      "                    0 (row viol.)\n",
      "  Timing            0.01 (total)\n",
      "                    0.00 (presolve)\n",
      "                    0.00 (postsolve)\n",
      "  Nodes             1\n",
      "  LP iterations     70 (total)\n",
      "                    0 (strong br.)\n",
      "                    0 (separation)\n",
      "                    0 (heuristics)\n"
     ]
    }
   ],
   "source": [
    "@variable(modelQ1,cost)\n",
    "@constraint(modelQ1,cost==constructioncost+operationnalcost)\n",
    "@objective(modelQ1,Min,cost)\n",
    "JuMP.optimize!(modelQ1)"
   ]
  },
  {
   "cell_type": "code",
   "execution_count": 24,
   "metadata": {},
   "outputs": [
    {
     "data": {
      "text/plain": [
       "creesol (generic function with 1 method)"
      ]
     },
     "metadata": {},
     "output_type": "display_data"
    }
   ],
   "source": [
    "function creesol(x,y0,ys,z)\n",
    "    turb_links = zeros(Int,nb_WT)\n",
    "    st_cable = zeros(Int,nb_SS)\n",
    "    sub = Vector{KIRO2023.SubStation}()\n",
    "\n",
    "    for i in 1:size(x, 1)  # Boucle sur les VS\n",
    "        for j in 1:size(x, 2)  # Boucle pour les S\n",
    "            if x[i,j]==1\n",
    "                for k in 1:CardQ0\n",
    "                    if y0[i,k] == 1\n",
    "                        push!(sub, KIRO2023.SubStation(i,current_instance.substation_types[j],current_instance.land_cable_type[k]))\n",
    "                    end\n",
    "\n",
    "                end\n",
    "            end\n",
    "        end\n",
    "    end\n",
    "    for i in 1:size(ys,1)\n",
    "        for j in 1:size(ys,2)\n",
    "            for k in 1:size(ys,3)\n",
    "                if ys[i,j,k]==1\n",
    "                    st_cable[i, j] = k\n",
    "                end\n",
    "            end\n",
    "        end\n",
    "    end\n",
    "    for i in 1:size(z,1)\n",
    "        for j in 1:size(z,2)\n",
    "            if z[i,j]==1\n",
    "                turb_links[i]=j\n",
    "            end\n",
    "        end\n",
    "    end\n",
    "    return KIRO2023.Solution(turb_links,st_cable,sub)\n",
    "end"
   ]
  },
  {
   "cell_type": "code",
   "execution_count": 46,
   "metadata": {},
   "outputs": [
    {
     "ename": "MathOptInterface.ResultIndexBoundsError{MathOptInterface.VariablePrimal}",
     "evalue": "Result index of attribute MathOptInterface.VariablePrimal(1) out of bounds. There are currently 0 solution(s) in the model.",
     "output_type": "error",
     "traceback": [
      "Result index of attribute MathOptInterface.VariablePrimal(1) out of bounds. There are currently 0 solution(s) in the model.\n",
      "\n",
      "Stacktrace:\n",
      "  [1] check_result_index_bounds\n",
      "    @ C:\\Users\\cooki\\.julia\\packages\\MathOptInterface\\yczX1\\src\\attributes.jl:207 [inlined]\n",
      "  [2] get\n",
      "    @ C:\\Users\\cooki\\.julia\\packages\\HiGHS\\zTMN2\\src\\MOI_wrapper.jl:2023 [inlined]\n",
      "  [3] get(b::MathOptInterface.Bridges.LazyBridgeOptimizer{HiGHS.Optimizer}, attr::MathOptInterface.VariablePrimal, index::MathOptInterface.VariableIndex)\n",
      "    @ MathOptInterface.Bridges C:\\Users\\cooki\\.julia\\packages\\MathOptInterface\\yczX1\\src\\Bridges\\bridge_optimizer.jl:1265\n",
      "  [4] get(model::MathOptInterface.Utilities.CachingOptimizer{MathOptInterface.Bridges.LazyBridgeOptimizer{HiGHS.Optimizer}, MathOptInterface.Utilities.UniversalFallback{MathOptInterface.Utilities.Model{Float64}}}, attr::MathOptInterface.VariablePrimal, index::MathOptInterface.VariableIndex)\n",
      "    @ MathOptInterface.Utilities C:\\Users\\cooki\\.julia\\packages\\MathOptInterface\\yczX1\\src\\Utilities\\cachingoptimizer.jl:932\n",
      "  [5] _moi_get_result(::MathOptInterface.Utilities.CachingOptimizer{MathOptInterface.Bridges.LazyBridgeOptimizer{HiGHS.Optimizer}, MathOptInterface.Utilities.UniversalFallback{MathOptInterface.Utilities.Model{Float64}}}, ::MathOptInterface.VariablePrimal, ::Vararg{Any})\n",
      "    @ JuMP C:\\Users\\cooki\\.julia\\packages\\JuMP\\027Gt\\src\\optimizer_interface.jl:663\n",
      "  [6] get(model::Model, attr::MathOptInterface.VariablePrimal, v::VariableRef)\n",
      "    @ JuMP C:\\Users\\cooki\\.julia\\packages\\JuMP\\027Gt\\src\\optimizer_interface.jl:703\n",
      "  [7] value(v::VariableRef; result::Int64)\n",
      "    @ JuMP C:\\Users\\cooki\\.julia\\packages\\JuMP\\027Gt\\src\\variables.jl:1703\n",
      "  [8] value\n",
      "    @ JuMP C:\\Users\\cooki\\.julia\\packages\\JuMP\\027Gt\\src\\variables.jl:1702 [inlined]\n",
      "  [9] _broadcast_getindex_evalf\n",
      "    @ Base.Broadcast .\\broadcast.jl:709 [inlined]\n",
      " [10] _broadcast_getindex\n",
      "    @ Base.Broadcast .\\broadcast.jl:682 [inlined]\n",
      " [11] getindex\n",
      "    @ Base.Broadcast .\\broadcast.jl:636 [inlined]\n",
      " [12] macro expansion\n",
      "    @ Base.Broadcast .\\broadcast.jl:1004 [inlined]\n",
      " [13] macro expansion\n",
      "    @ Base.Broadcast .\\simdloop.jl:77 [inlined]\n",
      " [14] copyto!\n",
      "    @ Base.Broadcast .\\broadcast.jl:1003 [inlined]\n",
      " [15] copyto!\n",
      "    @ Base.Broadcast .\\broadcast.jl:956 [inlined]\n",
      " [16] copy\n",
      "    @ Base.Broadcast .\\broadcast.jl:928 [inlined]\n",
      " [17] materialize(bc::Base.Broadcast.Broadcasted{Base.Broadcast.DefaultArrayStyle{2}, Nothing, typeof(value), Tuple{Matrix{VariableRef}}})\n",
      "    @ Base.Broadcast .\\broadcast.jl:903\n",
      " [18] top-level scope\n",
      "    @ c:\\Users\\cooki\\OneDrive\\Documents\\Ponts\\2A\\Rechop\\Code\\Code_questions\\MILP.jl.ipynb:1"
     ]
    }
   ],
   "source": [
    "X =value.(x)\n",
    "Y0 = value.(y0)\n",
    "YS = value.(ys)\n",
    "Z = value.(z)\n"
   ]
  },
  {
   "cell_type": "code",
   "execution_count": 78,
   "metadata": {},
   "outputs": [
    {
     "data": {
      "text/plain": [
       "3×2 Matrix{Float64}:\n",
       " 1.0  0.0\n",
       " 1.0  0.0\n",
       " 0.0  1.0"
      ]
     },
     "metadata": {},
     "output_type": "display_data"
    }
   ],
   "source": [
    "Z"
   ]
  },
  {
   "cell_type": "code",
   "execution_count": 40,
   "metadata": {},
   "outputs": [
    {
     "ename": "MethodError",
     "evalue": "MethodError: no method matching Matrix{Int64}(::Vector{Int64})\n\nClosest candidates are:\n  Array{T, N}(::AbstractArray{S, N}) where {T, N, S}\n   @ Base array.jl:673\n  Matrix{T}(!Matched::UndefInitializer, !Matched::Tuple{Int64, Int64}) where T\n   @ Core boot.jl:487\n  Matrix{T}(!Matched::UndefInitializer, !Matched::Int64, !Matched::Int64) where T\n   @ Core boot.jl:479\n  ...\n",
     "output_type": "error",
     "traceback": [
      "MethodError: no method matching Matrix{Int64}(::Vector{Int64})\n",
      "\n",
      "Closest candidates are:\n",
      "  Array{T, N}(::AbstractArray{S, N}) where {T, N, S}\n",
      "   @ Base array.jl:673\n",
      "  Matrix{T}(!Matched::UndefInitializer, !Matched::Tuple{Int64, Int64}) where T\n",
      "   @ Core boot.jl:487\n",
      "  Matrix{T}(!Matched::UndefInitializer, !Matched::Int64, !Matched::Int64) where T\n",
      "   @ Core boot.jl:479\n",
      "  ...\n",
      "\n",
      "\n",
      "Stacktrace:\n",
      " [1] convert(::Type{Matrix{Int64}}, a::Vector{Int64})\n",
      "   @ Base .\\array.jl:665\n",
      " [2] KIRO2023.Solution(turbine_links::Vector{Int64}, inter_station_cables::Vector{Int64}, substations::Vector{KIRO2023.SubStation})\n",
      "   @ KIRO2023 c:\\Users\\cooki\\OneDrive\\Documents\\Ponts\\2A\\Rechop\\Code\\src\\solution.jl:17\n",
      " [3] creesol(x::Matrix{Float64}, y0::Matrix{Float64}, ys::Array{Float64, 3}, z::Matrix{Float64})\n",
      "   @ Main c:\\Users\\cooki\\OneDrive\\Documents\\Ponts\\2A\\Rechop\\Code\\Code_questions\\MILP.jl.ipynb:34\n",
      " [4] top-level scope\n",
      "   @ c:\\Users\\cooki\\OneDrive\\Documents\\Ponts\\2A\\Rechop\\Code\\Code_questions\\MILP.jl.ipynb:1"
     ]
    }
   ],
   "source": [
    "sol = creesol(X,Y0,YS,Z)"
   ]
  },
  {
   "cell_type": "code",
   "execution_count": null,
   "metadata": {},
   "outputs": [],
   "source": []
  }
 ],
 "metadata": {
  "kernelspec": {
   "display_name": "Julia 1.10.0",
   "language": "julia",
   "name": "julia-1.10"
  },
  "language_info": {
   "file_extension": ".jl",
   "mimetype": "application/julia",
   "name": "julia",
   "version": "1.10.0"
  }
 },
 "nbformat": 4,
 "nbformat_minor": 2
}
