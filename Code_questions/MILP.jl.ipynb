{
 "cells": [
  {
   "cell_type": "code",
   "execution_count": 305,
   "metadata": {},
   "outputs": [],
   "source": [
    "using JuMP\n",
    "using HiGHS\n",
    "using GLPK\n",
    "import KIRO2023"
   ]
  },
  {
   "cell_type": "code",
   "execution_count": 306,
   "metadata": {},
   "outputs": [
    {
     "data": {
      "text/plain": [
       "solve_optimization (generic function with 1 method)"
      ]
     },
     "metadata": {},
     "output_type": "display_data"
    }
   ],
   "source": [
    "function solve_optimization(instance::KIRO2023.Instance)\n",
    "    model = Model(optimizer_with_attributes(GLPK.Optimizer))\n",
    "\n",
    "    # Variables de décision\n",
    "    @variable(model, turbines[1:KIRO2023.nb_turbines(instance)], Bin)  # Variables binaires pour les turbines\n",
    "    @variable(model, cables[1:KIRO2023.nb_station_locations(instance), 1:KIRO2023.nb_station_locations(instance)], Bin)  # Variables binaires pour les câbles inter-stations\n",
    "    @variable(model, substations[1:KIRO2023.nb_station_locations(instance)], Bin)  # Variables binaires pour les sous-stations\n",
    "\n",
    "    # Fonction objectif\n",
    "    valturb = value.(turbines)\n",
    "    valcabl=value.(cables)\n",
    "    valss=value.(substations)\n",
    "    @constraint(model, turbines .== valturb)\n",
    "    @constraint(model, cables .== valcabl)\n",
    "    @constraint(model, substations .== valss)\n",
    "    @objective(model, Min, KIRO2023.cost(KIRO2023.Solution(valturb, valcabl, valss), instance))\n",
    "\n",
    "    # Contraintes\n",
    "    @constraint(model, KIRO2023.is_feasible(KIRO2023.Solutionval(turb, valcabl, valss), instance) == true)\n",
    "\n",
    "    # Résoudre le modèle\n",
    "    optimize!(model)\n",
    "\n",
    "    # Récupérer la solution optimale\n",
    "    optimal_turbines = value.(turbines)\n",
    "    optimal_cables = value.(cables)\n",
    "    optimal_substations = value.(substations)\n",
    "\n",
    "    optimal_solution = KIRO2023.Solution(optimal_turbines, optimal_cables, optimal_substations)\n",
    "\n",
    "    # Afficher la solution optimale\n",
    "    println(\"Optimal Solution: \", optimal_solution)\n",
    "    println(\"Objective Value: \", objective_value(model))\n",
    "end"
   ]
  },
  {
   "cell_type": "code",
   "execution_count": 307,
   "metadata": {},
   "outputs": [],
   "source": [
    "#instance = KIRO2023.read_instance(\"../instances/KIRO-small.json\")\n",
    "#solve_optimization(instance)"
   ]
  },
  {
   "cell_type": "code",
   "execution_count": 407,
   "metadata": {},
   "outputs": [
    {
     "data": {
      "text/plain": [
       "2"
      ]
     },
     "metadata": {},
     "output_type": "display_data"
    }
   ],
   "source": [
    "import KIRO2023\n",
    "\n",
    "\n",
    "chemin_tiny = \"../instances/KIRO-tiny.json\"\n",
    "#chemin_small = \"../instances/KIRO-small.json\"\n",
    "#chemin_medium = \"../instances/KIRO-medium.json\"\n",
    "#chemin_large = \"../instances/KIRO-large.json\"\n",
    "#chemin_huge = \"../instances/KIRO-huge.json\"\n",
    "\n",
    "current_instance = KIRO2023.read_instance(chemin_tiny)\n",
    "\n",
    "nb_WT = length(current_instance.wind_turbines) #Nombre de wind_turbine dans notre instance : card(V^s)=card(E0)\n",
    "nb_SS = length(current_instance.substation_locations) #Nombre de substation dans notre instance Card(V^t)\n",
    "CardVS=nb_SS\n",
    "CardE0=CardVS\n",
    "CardVT=nb_WT\n",
    "CardS = length(current_instance.substation_types) #Card(S)\n",
    "CardE0=nb_WT\n",
    "CardQ0=length(current_instance.land_substation_cable_types)\n",
    "CardES= CardVS*(CardVS-1)\n",
    "CardQS=length(current_instance.substation_substation_cable_types)\n",
    "CardET=CardVT*CardVS\n",
    "OMEGA = length(current_instance.wind_scenarios)\n",
    "#x : matrice taille VS x S, y0 : E0 x Q0, ys : ES x QS, z : VT x VS\n",
    "#x[i, j] = ind(on construit type j sur emplacement i) (SS)\n",
    "#y0[i,j] = ind(on construit type j sur route i) taille E0 x Q0 et ys[i,j,k] on construit type k entre  SS i et j (=ys[j,i,k]) taille VS x VS x QS\n",
    "#z[i,j] = ind(turbine i reliée a SS j) taille WT * SS\n",
    "\n",
    "#turb_links = zeros(Int,nb_WT) Les trois tableaux suivants sont ceux qu'on va mettre dans notre type \"solution\" pour créer le json -> Z\n",
    "#st_cabl = zeros(Int,nb_SS) partie E_0 de y\n",
    "#sub = Vector{KIRO2023.SubStation}() Les substations qu'on va construire-> x et partie E_s de y"
   ]
  },
  {
   "cell_type": "code",
   "execution_count": 343,
   "metadata": {},
   "outputs": [
    {
     "data": {
      "text/plain": [
       "contrainteQ4! (generic function with 1 method)"
      ]
     },
     "metadata": {},
     "output_type": "display_data"
    }
   ],
   "source": [
    "function variables_binaires!(model, tableau)\n",
    "    for i in eachindex(tableau)\n",
    "        @variable(model, tableau[i], Bin)\n",
    "    end\n",
    "end\n",
    "\n",
    "function contrainteQ1!(model,mu,alpha,beta,M) # Quand on met la contrainte sur mu, alpha, beta existent deja, donc pas besoin de les def, @variable(model,mu)\n",
    "    @constraint(model, mu >= 0)\n",
    "    @constraint(model, mu <= M * alpha)\n",
    "    @constraint(model, mu <= beta)\n",
    "    @constraint(model, mu >= beta - (1 - alpha) * M)\n",
    "end\n",
    "\n",
    "function contrainteQ2!(model,mu,beta,M,y) #Attention, dire avant que y est binaire avec @variable(model, y, Bin) @variable(model,mu)\n",
    "    @constraint(model, -beta <= M * y)\n",
    "    @constraint(model, beta <= M * (1 - y))\n",
    "    @constraint(model, mu >= 0)\n",
    "    @constraint(model, mu >= beta)\n",
    "    @constraint(model, mu <= M * (1 - y))\n",
    "    @constraint(model, mu <= beta + M * y)   \n",
    "end\n",
    "\n",
    "function contrainteQ3!(model, mu, alpha, beta,M,x,y) # @variable(model, y, Bin)  @variable(model, x) @variable(model, mu)\n",
    "    contrainteQ2!(model,x,beta-alpha,2*M,y)\n",
    "    @constraint(model, mu == beta - x)\n",
    "end\n",
    "\n",
    "\n",
    "function contrainteQ4!(model,alpha,beta,gamma,A,B,y) #déclarer @variable(model,y) et pareil avec alpha, beta, gamma : les 4 doivent exister en tant que variable avant\n",
    "    for i in 1:size(A, 1)\n",
    "        @constraint(model, sum(A[i, j] * [x, y, z][j] for j in 1:3) <= B[i])\n",
    "        @constraint(model, y >= alpha+gamma)\n",
    "        @constraint(model, y >= beta+gamma)\n",
    "    end\n",
    "end"
   ]
  },
  {
   "cell_type": "code",
   "execution_count": 344,
   "metadata": {},
   "outputs": [
    {
     "data": {
      "text/plain": [
       "\"M=10\\nalpha = 8\\nbeta = 9\\nmodeltest =  Model(HiGHS.Optimizer)\\n@variable(modeltest,y,Bin)\\n@variable(modeltest, x) \\n@variable(modeltest,mu)\\ncontrainteQ3!(modeltest,mu,alpha,beta,M,x,y)\\n@objective(modeltest,Min,mu)\\noptimize!(modeltest)\""
      ]
     },
     "metadata": {},
     "output_type": "display_data"
    }
   ],
   "source": [
    "\"\"\"M=10\n",
    "alpha = 8\n",
    "beta = 9\n",
    "modeltest =  Model(HiGHS.Optimizer)\n",
    "@variable(modeltest,y,Bin)\n",
    "@variable(modeltest, x) \n",
    "@variable(modeltest,mu)\n",
    "contrainteQ3!(modeltest,mu,alpha,beta,M,x,y)\n",
    "@objective(modeltest,Min,mu)\n",
    "optimize!(modeltest)\"\"\""
   ]
  },
  {
   "cell_type": "code",
   "execution_count": 345,
   "metadata": {},
   "outputs": [],
   "source": [
    "#modelyu = Model(GLPK.Optimizer)\n",
    "#@variable(modelyu, mu[1:10])\n",
    "#@variable(modelyu, alpha[1:10],Bin)\n",
    "#@variables(modelyu,begin\n",
    "#-10 <= beta[1:10] <= 10\n",
    "#end)\n",
    "\n",
    "#contrainteQ1!(modelyu,mu[1],alpha[1],beta[1],30)\n",
    "#contrainteQ1!(modelyu,mu[2],alpha[8],mu[1]*alpha[2],30)"
   ]
  },
  {
   "cell_type": "code",
   "execution_count": 371,
   "metadata": {},
   "outputs": [
    {
     "data": {
      "text/plain": [
       "3×2 Matrix{VariableRef}:\n",
       " z[1,1]  z[1,2]\n",
       " z[2,1]  z[2,2]\n",
       " z[3,1]  z[3,2]"
      ]
     },
     "metadata": {},
     "output_type": "display_data"
    }
   ],
   "source": [
    "modelQ1 = Model(HiGHS.Optimizer)\n",
    "@variable(modelQ1, x[1:CardVS, 1:CardS], Bin)\n",
    "@variable(modelQ1, y0[1:CardE0, 1:CardQ0], Bin)\n",
    "@variable(modelQ1, ys[1:CardVS, 1:CardVS, 1:CardQS], Bin)\n",
    "@variable(modelQ1,z[1:CardVT ,1:CardVS], Bin)"
   ]
  },
  {
   "cell_type": "code",
   "execution_count": 372,
   "metadata": {},
   "outputs": [],
   "source": [
    "for k in 1:CardQS\n",
    "    for i in 1:CardVS\n",
    "        for j in 1:CardVS\n",
    "            @constraint(modelQ1,ys[i,j,k]==ys[j,i,k])\n",
    "        end\n",
    "    end\n",
    "end"
   ]
  },
  {
   "cell_type": "code",
   "execution_count": 373,
   "metadata": {},
   "outputs": [
    {
     "data": {
      "text/plain": [
       "2×2 Matrix{Any}:\n",
       " 0                                 500 ys[1,2,1] + 1000 ys[1,2,2]\n",
       "  500 ys[2,1,1] + 1000 ys[2,1,2]  0"
      ]
     },
     "metadata": {},
     "output_type": "display_data"
    }
   ],
   "source": [
    "#Je rajoute ttes les variables binaires (ou non) dont j'ai besoin\n",
    "MQ = 99999999\n",
    "rx = [sum(current_instance.substation_types[i].rating * x[i, k] for k in 1:CardS) for i in 1:CardVS]\n",
    "ryq0 = [sum(current_instance.land_substation_cable_types[i].rating * y0[i,k] for k in 1:CardQ0) for i in 1:CardVS]\n",
    "somze = [ sum(z[k,i] for k in 1:CardVT) for i in 1:CardVS]\n",
    "ryqs = [sum( j!=i ? sum( current_instance.substation_substation_cable_types[k].rating * ys[i,j,k]  for k in 1:CardQS) : 0 for j in 1:CardVS) for i in 1:CardVS] #Somme des rqyeq pour un v in Vs (yvvq=0)\n",
    "ryqscf = [ i != j ?  sum( current_instance.substation_substation_cable_types[k].rating * ys[i,j,k] for k in 1:CardQS) : 0 for i in 1:CardVS, j in 1:CardVS]\n",
    "\n"
   ]
  },
  {
   "cell_type": "code",
   "execution_count": 374,
   "metadata": {},
   "outputs": [],
   "source": [
    "#On construit tous les min de rsxvs/rqyeq : il y en a CardVS : pour chaque CardVS, il faut créer 3 variables. le mu, le x, et le yBin\n",
    "@variable(modelQ1, MinCnx[1:CardVS])\n",
    "@variable(modelQ1, MinCny[1:CardVS], Bin)\n",
    "@variable(modelQ1, MinCn[1:CardVS])\n",
    "for i in 1:CardVS\n",
    "    contrainteQ3!(modelQ1,MinCn[i],-rx[i],-ryq0[i],MQ,MinCnx[i],MinCny[i])#model, mu, alpha, beta,M,x,y\n",
    "end\n",
    "#Attention, ici, MinCN est -min, il faudra donc mettre un plus dans la déf de Cn"
   ]
  },
  {
   "cell_type": "code",
   "execution_count": 375,
   "metadata": {},
   "outputs": [],
   "source": [
    "#On crée les parties positives de Cn\n",
    "@variable(modelQ1,PosCny[1:CardVS,1:OMEGA],Bin) #On a autant de variable binaire pour les partie positive que le nmbre de scenarios * VS\n",
    "@variable(modelQ1,PosCn[1:CardVS, 1:OMEGA])\n",
    "for i in 1:CardVS\n",
    "    for j in 1:OMEGA #model,mu,beta,M,y\n",
    "        contrainteQ2!(modelQ1,PosCn[i,j],current_instance.wind_scenarios[j].power_generation*somze[i]+MinCn[i],MQ,PosCny[i,j]) ##Le + est voulu\n",
    "    end\n",
    "end\n",
    "@variable(modelQ1,Cn[1:OMEGA])\n",
    "for j in 1:OMEGA\n",
    "    @constraint(modelQ1,Cn[j] == sum( PosCn[i,j] for i in 1:CardVS))\n",
    "end"
   ]
  },
  {
   "cell_type": "code",
   "execution_count": 376,
   "metadata": {},
   "outputs": [],
   "source": [
    "#Cf sera un Cf[1:CardVS,1:OMEGA]\n",
    "@variable(modelQ1, P1Cf[1:CardVS,1:OMEGA])\n",
    "@variable(modelQ1, P1Cfy[1:CardVS,1:OMEGA])\n",
    "for i in 1:CardVS\n",
    "    for j in 1:OMEGA\n",
    "        contrainteQ2!(modelQ1,P1Cf[i,j],current_instance.wind_scenarios[j].power_generation*somze[i]-ryqs[i],MQ,P1Cfy[i,j])#model,mu,beta,M,y\n",
    "    end\n",
    "end\n",
    "\n"
   ]
  },
  {
   "cell_type": "code",
   "execution_count": 377,
   "metadata": {},
   "outputs": [],
   "source": [
    "#On crée les nouveaux tableaux dont on a besoin pour P2 de Cf :\n",
    "@variable(modelQ1,Min1Cfy[1:CardVS,1:CardVS,1:OMEGA],Bin)\n",
    "@variable(modelQ1,Min1Cfx[1:CardVS,1:CardVS,1:OMEGA])\n",
    "@variable(modelQ1,Min1Cf[1:CardVS,1:CardVS,1:OMEGA])\n",
    "for i in 1:CardVS\n",
    "    for j in 1:CardVS\n",
    "        for k in 1:OMEGA\n",
    "            contrainteQ3!(modelQ1,Min1Cf[i,j,k],-ryqscf[i,j],-current_instance.wind_scenarios[k].power_generation * somze[i], MQ, Min1Cfx[i,j,k], Min1Cfy[i,j,k])#model, mu, alpha, beta,M,x,y\n",
    "        end\n",
    "    end\n",
    "end #Cette variable est -min : il faudra mettre un - devant\n",
    "\n"
   ]
  },
  {
   "cell_type": "code",
   "execution_count": 378,
   "metadata": {},
   "outputs": [],
   "source": [
    "@variable(modelQ1, PosCf[1:CardVS,1:CardVS,1:OMEGA])\n",
    "@variable(modelQ1,PosCfy[1:CardVS,1:CardVS,1:OMEGA],Bin)\n",
    "for i in 1:CardVS\n",
    "    for j in 1:CardVS\n",
    "        for k in 1:OMEGA\n",
    "            contrainteQ2!(modelQ1,PosCf[i,j,k],current_instance.wind_scenarios[k].power_generation*somze[j]-Min1Cf[i,j,k]+MinCn[j],MQ,PosCfy[i,j,k])#model,mu,beta,M,y\n",
    "        end\n",
    "    end\n",
    "end\n",
    "@variable(modelQ1,Cf[1:CardVS,1:OMEGA])\n",
    "for i in 1:CardVS\n",
    "    for k in 1:OMEGA\n",
    "        @constraint(modelQ1,Cf[i,k] ==  P1Cf[i,k] + sum( i!=j ? PosCf[i,j,k] : 0 for j in 1:CardVS))\n",
    "    end\n",
    "end\n"
   ]
  },
  {
   "cell_type": "markdown",
   "metadata": {},
   "source": [
    "A ce stade, on a Cn (taille1:OMEGA et Cf (taille CardVS x OMEGA))"
   ]
  },
  {
   "cell_type": "code",
   "execution_count": 379,
   "metadata": {},
   "outputs": [],
   "source": [
    "#On rajoute les contraintes 1, 2, 3 et 4 de l'énoncé\n",
    "for i in 1:CardVS\n",
    "    @constraint(modelQ1, sum(x[i,j] for j in 1:CardS) <= 1)\n",
    "end\n",
    "for i in 1:CardVS\n",
    "    @constraint(modelQ1,sum( y0[i,j] for j in 1:CardQ0) == sum( x[i,j] for j in 1:CardS))\n",
    "end\n",
    "for i in 1:CardVT\n",
    "    @constraint(modelQ1, sum(z[i,j] for j in 1:CardVS) == 1)\n",
    "end\n",
    "for i in 1:CardVS\n",
    "    @constraint(modelQ1, sum( i!=j ? sum( ys[i,j,k] for k in 1:CardQS) : 0 for j in 1:CardVS) <= sum( x[i,j] for j in 1:CardS))\n",
    "end"
   ]
  },
  {
   "cell_type": "code",
   "execution_count": 380,
   "metadata": {},
   "outputs": [
    {
     "data": {
      "text/plain": [
       "50000.0"
      ]
     },
     "metadata": {},
     "output_type": "display_data"
    }
   ],
   "source": [
    "c0 = current_instance.curtailing_cost\n",
    "cp = current_instance.curtailing_penalty\n",
    "cmax = current_instance.maximum_curtailing"
   ]
  },
  {
   "cell_type": "markdown",
   "metadata": {},
   "source": [
    "function distance_to_land(instance::Instance, substation_id)\n",
    "    return distance(instance.land, instance.substation_locations[substation_id])\n",
    "end\n",
    "\n",
    "function distance_inter_station(instance::Instance, v₁, v₂)\n",
    "    return distance(instance.substation_locations[v₁], instance.substation_locations[v₂])\n",
    "end"
   ]
  },
  {
   "cell_type": "code",
   "execution_count": 381,
   "metadata": {},
   "outputs": [
    {
     "data": {
      "text/plain": [
       "14.142135623730951"
      ]
     },
     "metadata": {},
     "output_type": "display_data"
    }
   ],
   "source": [
    "KIRO2023.distance_to_land(current_instance,1)"
   ]
  },
  {
   "cell_type": "code",
   "execution_count": 382,
   "metadata": {},
   "outputs": [
    {
     "data": {
      "text/latex": [
       "$$ -100000 x_{1,1} - 200000 x_{1,2} - 200000 x_{2,2} - 2282.842712474619 y0_{1,1} - 2565.685424949238 y0_{2,1} - 3424.2640687119283 y0_{1,2} - 3848.528137423857 y0_{2,2} - 1141.4213562373095 ys_{2,1,1} - 1141.4213562373095 ys_{1,2,1} - 1712.1320343559642 ys_{2,1,2} - 1712.1320343559642 ys_{1,2,2} + constructioncost = 0 $$"
      ],
      "text/plain": [
       "-100000 x[1,1] - 200000 x[1,2] - 200000 x[2,2] - 2282.842712474619 y0[1,1] - 2565.685424949238 y0[2,1] - 3424.2640687119283 y0[1,2] - 3848.528137423857 y0[2,2] - 1141.4213562373095 ys[2,1,1] - 1141.4213562373095 ys[1,2,1] - 1712.1320343559642 ys[2,1,2] - 1712.1320343559642 ys[1,2,2] + constructioncost == 0"
      ]
     },
     "metadata": {},
     "output_type": "display_data"
    }
   ],
   "source": [
    "@variable(modelQ1,constructioncost)\n",
    "@constraint(modelQ1,constructioncost == sum(sum( current_instance.substation_types[j].cost * x[i,j] for j in i:CardS) for i in 1:CardVS) \n",
    "                                            + sum(sum( y0[i,j]*(current_instance.land_substation_cable_types[j].fixed_cost + current_instance.land_substation_cable_types[j].variable_cost*KIRO2023.distance_to_land(current_instance,i) ) for j in 1:CardQ0) for i in 1:CardVS)\n",
    "                                            + sum(sum( i!=j ? sum( ys[i,j,k]*(current_instance.substation_substation_cable_types[k].fixed_cost + current_instance.substation_substation_cable_types[k].variable_cost*KIRO2023.distance_inter_station(current_instance,i,j)) for k in 1:CardQS) : 0 for j in 1:CardVS) for i in 1:CardVS))"
   ]
  },
  {
   "cell_type": "code",
   "execution_count": 383,
   "metadata": {},
   "outputs": [],
   "source": [
    "@variable(modelQ1,operationnalcost) #il faut créer 2*VS*OMEGA binaires + continues\n",
    "@variable(modelQ1,opcostCfy[1:CardVS,1:OMEGA],Bin)\n",
    "@variable(modelQ1,opcostCf[1:CardVS,1:OMEGA])\n",
    "@variable(modelQ1,opcostCny[1:OMEGA], Bin)\n",
    "@variable(modelQ1,opcostCn[1:OMEGA])\n",
    "\n",
    "for i in 1:CardVS\n",
    "    for j in 1:OMEGA\n",
    "        contrainteQ2!(modelQ1,opcostCf[i,j],Cf[i,j]-cmax,MQ,opcostCfy[i,j])#model,mu,beta,M,y\n",
    "    end\n",
    "end\n",
    "for i in 1:OMEGA\n",
    "    contrainteQ2!(modelQ1,opcostCn[i],Cn[i]-cmax,MQ,opcostCny[i])\n",
    "end\n",
    "@variable(modelQ1, cCf[1:CardVS,1:OMEGA])\n",
    "@variable(modelQ1,cCn[1:OMEGA])\n",
    "for i in 1:CardVS\n",
    "    for j in 1:OMEGA\n",
    "        @constraint(modelQ1, cCf[i,j]==c0*Cf[i,j]+cp*opcostCf[i,j])\n",
    "    end\n",
    "end\n",
    "for i in 1:OMEGA\n",
    "    @constraint(modelQ1,cCn[i]== c0*Cn[i]+cp*opcostCn[i])\n",
    "end\n"
   ]
  },
  {
   "cell_type": "code",
   "execution_count": 384,
   "metadata": {},
   "outputs": [],
   "source": [
    "#2 ID2ESS : faire la ligne au dessus, ou aussi quand on fait des produits de rsxs par ex, faire des contrainteQ1! a chaque fois pour linéariser cela"
   ]
  },
  {
   "cell_type": "code",
   "execution_count": 385,
   "metadata": {},
   "outputs": [],
   "source": [
    "#@variable(modelQ1,muy)\n",
    "#contrainteQ1!(modelQ1,muy,x[1],cCf[1,1],MQ)"
   ]
  },
  {
   "cell_type": "code",
   "execution_count": 386,
   "metadata": {},
   "outputs": [],
   "source": [
    "#pf[i] == sum( current_instance.substation_types[j].probability_of_failure * x[i,j] for j in 1:CardS) + sum(current_instance.land_substation_cable_types[j].probability_of_failure * y0[i,j] for j in 1:CardQ0)"
   ]
  },
  {
   "cell_type": "markdown",
   "metadata": {},
   "source": [
    "pf[i]=$$\\sum\\limits_{j=1}^{CardS}currentinstance[j].pfail*x[i,j]+\\sum\\limits_{j=1}^{CardQ0}currentinstane.lsscabletypes[j].pfail*y0[i,j]$$"
   ]
  },
  {
   "cell_type": "code",
   "execution_count": 387,
   "metadata": {},
   "outputs": [],
   "source": [
    "@variable(modelQ1, pfccf[1:CardVS, 1:OMEGA])\n",
    "@variable(modelQ1, pfccn[1:CardVS, 1:OMEGA])\n",
    "@variable(modelQ1,PFS[1:CardVS, 1:OMEGA, 1:CardS])\n",
    "@variable(modelQ1,PFQ[1:CardVS, 1:OMEGA, 1:CardQ0])\n",
    "@variable(modelQ1,PNS[1:CardVS, 1:OMEGA, 1:CardS])\n",
    "@variable(modelQ1,PNQ[1:CardVS, 1:OMEGA, 1:CardQ0])\n",
    "for i in 1:CardVS\n",
    "    for j in 1:OMEGA\n",
    "        for k in 1:CardS\n",
    "            contrainteQ1!(modelQ1,PFS[i,j,k],x[i,k],current_instance.substation_types[k].probability_of_failure*cCf[i,j],MQ)\n",
    "        end\n",
    "        for k in 1:CardQ0\n",
    "            contrainteQ1!(modelQ1,PFQ[i,j,k],y0[i,k],current_instance.land_substation_cable_types[k].probability_of_failure*cCf[i,j],MQ)\n",
    "        end\n",
    "    end\n",
    "end\n",
    "for i in 1:CardVS\n",
    "    for j in 1:OMEGA\n",
    "        @constraint(modelQ1,pfccf[i,j] == sum(PFS[i,j,k] for k in 1:CardS)+ sum(PFQ[i,j,k] for k in 1:CardQ0))\n",
    "    end\n",
    "end\n",
    "for i in 1:CardVS\n",
    "    for j in 1:OMEGA\n",
    "        for k in 1:CardS\n",
    "            contrainteQ1!(modelQ1,PNS[i,j,k],x[i,k],current_instance.substation_types[k].probability_of_failure*cCn[j],MQ)\n",
    "        end\n",
    "        for k in 1:CardQ0\n",
    "            contrainteQ1!(modelQ1,PNQ[i,j,k],y0[i,k],current_instance.land_substation_cable_types[k].probability_of_failure*cCn[j],MQ)\n",
    "        end\n",
    "    end\n",
    "end\n",
    "for i in 1:CardVS\n",
    "    for j in 1:OMEGA\n",
    "        @constraint(modelQ1,pfccn[i,j] == sum(PNS[i,j,k] for k in 1:CardS)+ sum(PNQ[i,j,k] for k in 1:CardQ0))\n",
    "    end\n",
    "end\n"
   ]
  },
  {
   "cell_type": "code",
   "execution_count": 388,
   "metadata": {},
   "outputs": [
    {
     "data": {
      "text/latex": [
       "$$ operationnalcost - 0.1 cCn_{1} - 0.9 cCn_{2} - 0.1 pfccf_{1,1} - 0.1 pfccf_{2,1} - 0.9 pfccf_{1,2} - 0.9 pfccf_{2,2} + 0.1 pfccn_{1,1} + 0.1 pfccn_{2,1} + 0.9 pfccn_{1,2} + 0.9 pfccn_{2,2} = 0 $$"
      ],
      "text/plain": [
       "operationnalcost - 0.1 cCn[1] - 0.9 cCn[2] - 0.1 pfccf[1,1] - 0.1 pfccf[2,1] - 0.9 pfccf[1,2] - 0.9 pfccf[2,2] + 0.1 pfccn[1,1] + 0.1 pfccn[2,1] + 0.9 pfccn[1,2] + 0.9 pfccn[2,2] == 0"
      ]
     },
     "metadata": {},
     "output_type": "display_data"
    }
   ],
   "source": [
    "@constraint(modelQ1, operationnalcost == sum( current_instance.wind_scenarios[j].probability*(sum( pfccf[i,j] for i in 1:CardVS) +cCn[j]-sum( pfccn[i,j] for i in 1:CardVS)) for j in 1:OMEGA))"
   ]
  },
  {
   "cell_type": "code",
   "execution_count": 389,
   "metadata": {},
   "outputs": [],
   "source": [
    "#@constraint(modelQ1, operationnalcost == sum( current_instance.wind_scenarios[j].probability*\n",
    "#                                            (sum( pf[i]*cCf[i,j] for i in 1:CardVS) + (1-sum( pf[i] for i in 1:CardVS))*cCn[j]) for j in 1:OMEGA))"
   ]
  },
  {
   "cell_type": "code",
   "execution_count": 390,
   "metadata": {},
   "outputs": [
    {
     "name": "stdout",
     "output_type": "stream",
     "text": [
      "Running HiGHS 1.6.0: Copyright (c) 2023 HiGHS under MIT licence terms\n",
      "Presolving model\n",
      "286 rows, 141 cols, 1069 nonzeros\n",
      "224 rows, 105 cols, 646 nonzeros\n",
      "\n",
      "Solving MIP model with:\n",
      "   224 rows\n",
      "   105 cols (28 binary, 1 integer, 6 implied int., 70 continuous)\n",
      "   646 nonzeros\n",
      "\n",
      "        Nodes      |    B&B Tree     |            Objective Bounds              |  Dynamic Constraints |       Work      \n",
      "     Proc. InQueue |  Leaves   Expl. | BestBound       BestSol              Gap |   Cuts   InLp Confl. | LpIters     Time\n",
      "\n",
      "         0       0         0   0.00%   -15.66          inf                  inf        0      0      0         0     0.0s\n",
      " R       0       0         0   0.00%   170.5218809     174                2.00%        0      0      0        59     0.0s\n",
      "\n",
      "Solving report\n",
      "  Status            Optimal\n",
      "  Primal bound      174\n",
      "  Dual bound        174\n",
      "  Gap               0% (tolerance: 0.01%)\n",
      "  Solution status   feasible\n",
      "                    174 (objective)\n",
      "                    0 (bound viol.)\n",
      "                    0 (int. viol.)\n",
      "                    0 (row viol.)\n",
      "  Timing            0.01 (total)\n",
      "                    0.00 (presolve)\n",
      "                    0.00 (postsolve)\n",
      "  Nodes             1\n",
      "  LP iterations     59 (total)\n",
      "                    0 (strong br.)\n",
      "                    0 (separation)\n",
      "                    0 (heuristics)\n"
     ]
    }
   ],
   "source": [
    "@variable(modelQ1,cost)\n",
    "@constraint(modelQ1,cost==constructioncost+operationnalcost)\n",
    "@objective(modelQ1,Min,cost)\n",
    "JuMP.optimize!(modelQ1)"
   ]
  },
  {
   "cell_type": "code",
   "execution_count": null,
   "metadata": {},
   "outputs": [],
   "source": [
    "function creesol(x,y0,ys,z)\n",
    "    turb_links = zeros(Int,nb_WT)\n",
    "    st_cable = zeros(Int,nb_SS)\n",
    "    sub = Vector{KIRO2023.SubStation}()\n",
    "\n",
    "    for i in 1:size(x, 1)  # Boucle sur les VS\n",
    "        for j in 1:size(x, 2)  # Boucle pour les S\n",
    "            if x[i,j]==1\n",
    "                for k in 1:CardQ0\n",
    "                    if y0[i,k] == 1\n",
    "                        push!(sub, KIRO2023.SubStation(i,current_instance.substation_types[j],current_instance.land_cable_type[k]))\n",
    "                    end\n",
    "\n",
    "                end\n",
    "            end\n",
    "        end\n",
    "    end\n",
    "    for i in 1:size(ys,1)\n",
    "        for j in 1:size(ys,2)\n",
    "            for k in 1:size(ys,3)\n",
    "                if ys[i,j,k]==1\n",
    "                    st_cable[i, j] = k\n",
    "                end\n",
    "            end\n",
    "        end\n",
    "    end\n",
    "    for i in 1:size(z,1)\n",
    "        for j in 1:size(z,2)\n",
    "            if z[i,j]==1\n",
    "                turb_links[i]=j\n",
    "            end\n",
    "        end\n",
    "    end\n",
    "    return KIRO2023.Solution(turb_links,st_cable,sub)\n",
    "end"
   ]
  },
  {
   "cell_type": "code",
   "execution_count": 406,
   "metadata": {},
   "outputs": [
    {
     "data": {
      "text/plain": [
       "1"
      ]
     },
     "metadata": {},
     "output_type": "display_data"
    }
   ],
   "source": [
    "X =value.(x)\n",
    "Y0 = value.(y0)\n",
    "YS = value.(ys)\n",
    "Z = value.(z)\n"
   ]
  },
  {
   "cell_type": "code",
   "execution_count": null,
   "metadata": {},
   "outputs": [],
   "source": []
  }
 ],
 "metadata": {
  "kernelspec": {
   "display_name": "Julia 1.10.0",
   "language": "julia",
   "name": "julia-1.10"
  },
  "language_info": {
   "file_extension": ".jl",
   "mimetype": "application/julia",
   "name": "julia",
   "version": "1.10.0"
  }
 },
 "nbformat": 4,
 "nbformat_minor": 2
}
